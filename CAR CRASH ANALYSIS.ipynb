{
 "cells": [
  {
   "cell_type": "code",
   "execution_count": 1,
   "id": "9eed3143",
   "metadata": {},
   "outputs": [],
   "source": [
    "import pandas as pd\n",
    "import numpy as np\n",
    "import matplotlib.pyplot as plt\n",
    "import seaborn as sns\n",
    "import warnings\n",
    "\n",
    "warnings.filterwarnings(\"ignore\")"
   ]
  },
  {
   "cell_type": "code",
   "execution_count": 2,
   "id": "2cfc872c",
   "metadata": {},
   "outputs": [
    {
     "data": {
      "text/html": [
       "<div>\n",
       "<style scoped>\n",
       "    .dataframe tbody tr th:only-of-type {\n",
       "        vertical-align: middle;\n",
       "    }\n",
       "\n",
       "    .dataframe tbody tr th {\n",
       "        vertical-align: top;\n",
       "    }\n",
       "\n",
       "    .dataframe thead th {\n",
       "        text-align: right;\n",
       "    }\n",
       "</style>\n",
       "<table border=\"1\" class=\"dataframe\">\n",
       "  <thead>\n",
       "    <tr style=\"text-align: right;\">\n",
       "      <th></th>\n",
       "      <th>Year</th>\n",
       "      <th>Month</th>\n",
       "      <th>Day</th>\n",
       "      <th>Weekend?</th>\n",
       "      <th>Hour</th>\n",
       "      <th>Collision Type</th>\n",
       "      <th>Injury Type</th>\n",
       "      <th>Primary Factor</th>\n",
       "      <th>Reported_Location</th>\n",
       "      <th>Latitude</th>\n",
       "      <th>Longitude</th>\n",
       "    </tr>\n",
       "  </thead>\n",
       "  <tbody>\n",
       "    <tr>\n",
       "      <th>0</th>\n",
       "      <td>2015</td>\n",
       "      <td>1</td>\n",
       "      <td>5</td>\n",
       "      <td>Weekday</td>\n",
       "      <td>0.0</td>\n",
       "      <td>2-Car</td>\n",
       "      <td>No injury/unknown</td>\n",
       "      <td>OTHER (DRIVER) - EXPLAIN IN NARRATIVE</td>\n",
       "      <td>1ST &amp; FESS</td>\n",
       "      <td>39.159207</td>\n",
       "      <td>-86.525874</td>\n",
       "    </tr>\n",
       "    <tr>\n",
       "      <th>1</th>\n",
       "      <td>2015</td>\n",
       "      <td>1</td>\n",
       "      <td>6</td>\n",
       "      <td>Weekday</td>\n",
       "      <td>1500.0</td>\n",
       "      <td>2-Car</td>\n",
       "      <td>No injury/unknown</td>\n",
       "      <td>FOLLOWING TOO CLOSELY</td>\n",
       "      <td>2ND &amp; COLLEGE</td>\n",
       "      <td>39.161440</td>\n",
       "      <td>-86.534848</td>\n",
       "    </tr>\n",
       "  </tbody>\n",
       "</table>\n",
       "</div>"
      ],
      "text/plain": [
       "   Year  Month  Day Weekend?    Hour Collision Type        Injury Type  \\\n",
       "0  2015      1    5  Weekday     0.0          2-Car  No injury/unknown   \n",
       "1  2015      1    6  Weekday  1500.0          2-Car  No injury/unknown   \n",
       "\n",
       "                          Primary Factor Reported_Location   Latitude  \\\n",
       "0  OTHER (DRIVER) - EXPLAIN IN NARRATIVE        1ST & FESS  39.159207   \n",
       "1                  FOLLOWING TOO CLOSELY     2ND & COLLEGE  39.161440   \n",
       "\n",
       "   Longitude  \n",
       "0 -86.525874  \n",
       "1 -86.534848  "
      ]
     },
     "execution_count": 2,
     "metadata": {},
     "output_type": "execute_result"
    }
   ],
   "source": [
    "car=pd.read_excel(\"new dataset.xlsx\")\n",
    "car.head(2)"
   ]
  },
  {
   "cell_type": "code",
   "execution_count": 3,
   "id": "07eb14fd",
   "metadata": {},
   "outputs": [
    {
     "data": {
      "text/plain": [
       "(53943, 11)"
      ]
     },
     "execution_count": 3,
     "metadata": {},
     "output_type": "execute_result"
    }
   ],
   "source": [
    "car.shape"
   ]
  },
  {
   "cell_type": "code",
   "execution_count": 4,
   "id": "4bb0f518",
   "metadata": {},
   "outputs": [
    {
     "data": {
      "text/plain": [
       "Year                   int64\n",
       "Month                  int64\n",
       "Day                    int64\n",
       "Weekend?              object\n",
       "Hour                 float64\n",
       "Collision Type        object\n",
       "Injury Type           object\n",
       "Primary Factor        object\n",
       "Reported_Location     object\n",
       "Latitude             float64\n",
       "Longitude            float64\n",
       "dtype: object"
      ]
     },
     "execution_count": 4,
     "metadata": {},
     "output_type": "execute_result"
    }
   ],
   "source": [
    "car.dtypes"
   ]
  },
  {
   "cell_type": "code",
   "execution_count": 5,
   "id": "09fbea9c",
   "metadata": {},
   "outputs": [
    {
     "name": "stdout",
     "output_type": "stream",
     "text": [
      "<class 'pandas.core.frame.DataFrame'>\n",
      "RangeIndex: 53943 entries, 0 to 53942\n",
      "Data columns (total 11 columns):\n",
      " #   Column             Non-Null Count  Dtype  \n",
      "---  ------             --------------  -----  \n",
      " 0   Year               53943 non-null  int64  \n",
      " 1   Month              53943 non-null  int64  \n",
      " 2   Day                53943 non-null  int64  \n",
      " 3   Weekend?           53875 non-null  object \n",
      " 4   Hour               53718 non-null  float64\n",
      " 5   Collision Type     53937 non-null  object \n",
      " 6   Injury Type        53943 non-null  object \n",
      " 7   Primary Factor     52822 non-null  object \n",
      " 8   Reported_Location  53908 non-null  object \n",
      " 9   Latitude           53913 non-null  float64\n",
      " 10  Longitude          53913 non-null  float64\n",
      "dtypes: float64(3), int64(3), object(5)\n",
      "memory usage: 4.5+ MB\n"
     ]
    }
   ],
   "source": [
    "car.info()"
   ]
  },
  {
   "cell_type": "code",
   "execution_count": 6,
   "id": "940c3483",
   "metadata": {},
   "outputs": [
    {
     "data": {
      "text/plain": [
       "64"
      ]
     },
     "execution_count": 6,
     "metadata": {},
     "output_type": "execute_result"
    }
   ],
   "source": [
    "car.duplicated().sum()"
   ]
  },
  {
   "cell_type": "code",
   "execution_count": 7,
   "id": "7adceaa2",
   "metadata": {},
   "outputs": [],
   "source": [
    "car.drop_duplicates(inplace=True)"
   ]
  },
  {
   "cell_type": "code",
   "execution_count": 8,
   "id": "825b6ec9",
   "metadata": {},
   "outputs": [
    {
     "data": {
      "text/plain": [
       "Year                    0\n",
       "Month                   0\n",
       "Day                     0\n",
       "Weekend?               68\n",
       "Hour                  225\n",
       "Collision Type          6\n",
       "Injury Type             0\n",
       "Primary Factor       1119\n",
       "Reported_Location      35\n",
       "Latitude               30\n",
       "Longitude              30\n",
       "dtype: int64"
      ]
     },
     "execution_count": 8,
     "metadata": {},
     "output_type": "execute_result"
    }
   ],
   "source": [
    "car.isna().sum()"
   ]
  },
  {
   "cell_type": "code",
   "execution_count": 9,
   "id": "fa5558e2",
   "metadata": {},
   "outputs": [
    {
     "data": {
      "text/plain": [
       "array(['OTHER (DRIVER) - EXPLAIN IN NARRATIVE', 'FOLLOWING TOO CLOSELY',\n",
       "       'DISREGARD SIGNAL/REG SIGN', 'FAILURE TO YIELD RIGHT OF WAY',\n",
       "       'DRIVER DISTRACTED - EXPLAIN IN NARRATIVE',\n",
       "       'ENGINE FAILURE OR DEFECTIVE', 'RAN OFF ROAD RIGHT',\n",
       "       'UNSAFE BACKING', 'ROADWAY SURFACE CONDITION', nan,\n",
       "       'SPEED TOO FAST FOR WEATHER CONDITIONS',\n",
       "       'ANIMAL/OBJECT IN ROADWAY', 'PEDESTRIAN ACTION',\n",
       "       'IMPROPER TURNING', 'UNSAFE LANE MOVEMENT', 'LEFT OF CENTER',\n",
       "       'IMPROPER LANE USAGE', 'OVERCORRECTING/OVERSTEERING',\n",
       "       'BRAKE FAILURE OR DEFECTIVE', 'UNSAFE SPEED',\n",
       "       'DRIVER ASLEEP OR FATIGUED', 'VIEW OBSTRUCTED', 'DRIVER ILLNESS',\n",
       "       'IMPROPER PASSING', 'OTHER (VEHICLE) - EXPLAIN IN NARRATIVE',\n",
       "       'OTHER (ENVIRONMENTAL) - EXPLAIN IN NARR', 'WRONG WAY ON ONE WAY',\n",
       "       'ACCELERATOR FAILURE OR DEFECTIVE', 'INSECURE/LEAKY LOAD',\n",
       "       'CELL PHONE USAGE', 'TIRE FAILURE OR DEFECTIVE',\n",
       "       'OTHER TELEMATICS IN USE', 'HEADLIGHT DEFECTIVE OR NOT ON',\n",
       "       'OTHER LIGHTS DEFECTIVE', 'TOW HITCH FAILURE', 'STEERING FAILURE',\n",
       "       'OBSTRUCTION NOT MARKED', 'OVERSIZE/OVERWEIGHT LOAD',\n",
       "       'HOLES/RUTS IN SURFACE',\n",
       "       'TRAFFIC CONTROL INOPERATIVE/MISSING/OBSC', 'SEVERE CROSSWINDS',\n",
       "       'LANE MARKING OBSCURED', 'NONE (DRIVER)', 'GLARE',\n",
       "       'ALCOHOLIC BEVERAGES', 'PRESCRIPTION DRUGS',\n",
       "       'ROAD UNDER CONSTRUCTION', 'NONE (VEHICLE)',\n",
       "       'PASSENGER DISTRACTION', 'ILLEGAL DRUGS', 'JACKKNIFING',\n",
       "       'UTILITY WORK', 'RAN OFF ROAD LEFT', 'SHOULDER DEFECTIVE',\n",
       "       'NONE (ENVIRONMENTAL)', 'VIOLATION OF LICENSE RESTRICTION'],\n",
       "      dtype=object)"
      ]
     },
     "execution_count": 9,
     "metadata": {},
     "output_type": "execute_result"
    }
   ],
   "source": [
    "car[\"Primary Factor\"].unique()"
   ]
  },
  {
   "cell_type": "code",
   "execution_count": 10,
   "id": "d4222178",
   "metadata": {},
   "outputs": [
    {
     "data": {
      "text/plain": [
       "Primary Factor\n",
       "FAILURE TO YIELD RIGHT OF WAY               11186\n",
       "FOLLOWING TOO CLOSELY                        7350\n",
       "OTHER (DRIVER) - EXPLAIN IN NARRATIVE        6152\n",
       "UNSAFE BACKING                               5183\n",
       "RAN OFF ROAD RIGHT                           2922\n",
       "DISREGARD SIGNAL/REG SIGN                    2206\n",
       "SPEED TOO FAST FOR WEATHER CONDITIONS        1911\n",
       "IMPROPER TURNING                             1843\n",
       "ANIMAL/OBJECT IN ROADWAY                     1684\n",
       "DRIVER DISTRACTED - EXPLAIN IN NARRATIVE     1656\n",
       "UNSAFE SPEED                                 1498\n",
       "ROADWAY SURFACE CONDITION                    1259\n",
       "LEFT OF CENTER                               1077\n",
       "IMPROPER LANE USAGE                           985\n",
       "ALCOHOLIC BEVERAGES                           804\n",
       "UNSAFE LANE MOVEMENT                          756\n",
       "OVERCORRECTING/OVERSTEERING                   597\n",
       "IMPROPER PASSING                              495\n",
       "OTHER (VEHICLE) - EXPLAIN IN NARRATIVE        472\n",
       "OTHER (ENVIRONMENTAL) - EXPLAIN IN NARR       417\n",
       "BRAKE FAILURE OR DEFECTIVE                    361\n",
       "PEDESTRIAN ACTION                             292\n",
       "DRIVER ASLEEP OR FATIGUED                     267\n",
       "DRIVER ILLNESS                                181\n",
       "VIEW OBSTRUCTED                               175\n",
       "CELL PHONE USAGE                              141\n",
       "NONE (DRIVER)                                 116\n",
       "WRONG WAY ON ONE WAY                          103\n",
       "TIRE FAILURE OR DEFECTIVE                      84\n",
       "RAN OFF ROAD LEFT                              59\n",
       "PRESCRIPTION DRUGS                             58\n",
       "GLARE                                          53\n",
       "ACCELERATOR FAILURE OR DEFECTIVE               50\n",
       "INSECURE/LEAKY LOAD                            46\n",
       "OBSTRUCTION NOT MARKED                         37\n",
       "STEERING FAILURE                               31\n",
       "PASSENGER DISTRACTION                          31\n",
       "ILLEGAL DRUGS                                  29\n",
       "OTHER TELEMATICS IN USE                        28\n",
       "OVERSIZE/OVERWEIGHT LOAD                       26\n",
       "ENGINE FAILURE OR DEFECTIVE                    25\n",
       "HEADLIGHT DEFECTIVE OR NOT ON                  20\n",
       "HOLES/RUTS IN SURFACE                          15\n",
       "TRAFFIC CONTROL INOPERATIVE/MISSING/OBSC       12\n",
       "NONE (ENVIRONMENTAL)                           12\n",
       "NONE (VEHICLE)                                 11\n",
       "OTHER LIGHTS DEFECTIVE                         10\n",
       "TOW HITCH FAILURE                               8\n",
       "ROAD UNDER CONSTRUCTION                         7\n",
       "JACKKNIFING                                     6\n",
       "SEVERE CROSSWINDS                               4\n",
       "LANE MARKING OBSCURED                           3\n",
       "VIOLATION OF LICENSE RESTRICTION                3\n",
       "SHOULDER DEFECTIVE                              2\n",
       "UTILITY WORK                                    1\n",
       "Name: count, dtype: int64"
      ]
     },
     "execution_count": 10,
     "metadata": {},
     "output_type": "execute_result"
    }
   ],
   "source": [
    "car[\"Primary Factor\"].value_counts()"
   ]
  },
  {
   "cell_type": "code",
   "execution_count": 11,
   "id": "1af621bf",
   "metadata": {},
   "outputs": [
    {
     "data": {
      "text/plain": [
       "Weekend?\n",
       "Weekday    40557\n",
       "Weekend    13254\n",
       "Name: count, dtype: int64"
      ]
     },
     "execution_count": 11,
     "metadata": {},
     "output_type": "execute_result"
    }
   ],
   "source": [
    "car[\"Weekend?\"].value_counts()"
   ]
  },
  {
   "cell_type": "code",
   "execution_count": 12,
   "id": "b796bc12",
   "metadata": {},
   "outputs": [],
   "source": [
    "car1=car.copy()"
   ]
  },
  {
   "cell_type": "markdown",
   "id": "afb169a7",
   "metadata": {},
   "source": [
    "\n",
    "\n",
    "\n",
    "\n",
    "### Treating null values"
   ]
  },
  {
   "cell_type": "code",
   "execution_count": 13,
   "id": "1ca180f4",
   "metadata": {},
   "outputs": [],
   "source": [
    "car[\"Weekend?\"].fillna(car[\"Weekend?\"].mode()[0],inplace=True)"
   ]
  },
  {
   "cell_type": "code",
   "execution_count": 14,
   "id": "3083292c",
   "metadata": {},
   "outputs": [
    {
     "data": {
      "text/plain": [
       "Year                    0\n",
       "Month                   0\n",
       "Day                     0\n",
       "Weekend?                0\n",
       "Hour                  225\n",
       "Collision Type          6\n",
       "Injury Type             0\n",
       "Primary Factor       1119\n",
       "Reported_Location      35\n",
       "Latitude               30\n",
       "Longitude              30\n",
       "dtype: int64"
      ]
     },
     "execution_count": 14,
     "metadata": {},
     "output_type": "execute_result"
    }
   ],
   "source": [
    "car.isna().sum()"
   ]
  },
  {
   "cell_type": "code",
   "execution_count": 15,
   "id": "fe7138ed",
   "metadata": {},
   "outputs": [],
   "source": [
    "car[\"Primary Factor\"].fillna(car[\"Primary Factor\"].mode()[0],inplace=True)"
   ]
  },
  {
   "cell_type": "code",
   "execution_count": 16,
   "id": "d2066836",
   "metadata": {},
   "outputs": [],
   "source": [
    "car[\"Hour\"].fillna(car[\"Hour\"].mean(),inplace=True)"
   ]
  },
  {
   "cell_type": "code",
   "execution_count": 17,
   "id": "77a5135f",
   "metadata": {},
   "outputs": [
    {
     "data": {
      "text/plain": [
       "Collision Type\n",
       "2-Car               37565\n",
       "1-Car               10225\n",
       "3+ Cars              3150\n",
       "Moped/Motorcycle     1007\n",
       "Bus                   849\n",
       "Pedestrian            609\n",
       "Cyclist               468\n",
       "Name: count, dtype: int64"
      ]
     },
     "execution_count": 17,
     "metadata": {},
     "output_type": "execute_result"
    }
   ],
   "source": [
    "car[\"Collision Type\"].value_counts()"
   ]
  },
  {
   "cell_type": "code",
   "execution_count": 18,
   "id": "63524d75",
   "metadata": {},
   "outputs": [],
   "source": [
    "car.dropna(inplace=True)"
   ]
  },
  {
   "cell_type": "code",
   "execution_count": 19,
   "id": "38eb3079",
   "metadata": {},
   "outputs": [
    {
     "data": {
      "text/plain": [
       "(53808, 11)"
      ]
     },
     "execution_count": 19,
     "metadata": {},
     "output_type": "execute_result"
    }
   ],
   "source": [
    "car.shape"
   ]
  },
  {
   "cell_type": "code",
   "execution_count": 20,
   "id": "d74395cd",
   "metadata": {},
   "outputs": [],
   "source": [
    "car1=car.copy()"
   ]
  },
  {
   "cell_type": "code",
   "execution_count": null,
   "id": "5301a848",
   "metadata": {},
   "outputs": [],
   "source": []
  },
  {
   "cell_type": "code",
   "execution_count": null,
   "id": "7c013455",
   "metadata": {},
   "outputs": [],
   "source": []
  },
  {
   "cell_type": "markdown",
   "id": "21018fad",
   "metadata": {},
   "source": [
    "- latitude and longitude is showing high -ve correlation to each other"
   ]
  },
  {
   "cell_type": "code",
   "execution_count": 22,
   "id": "c1c710f8",
   "metadata": {},
   "outputs": [
    {
     "data": {
      "text/html": [
       "<div>\n",
       "<style scoped>\n",
       "    .dataframe tbody tr th:only-of-type {\n",
       "        vertical-align: middle;\n",
       "    }\n",
       "\n",
       "    .dataframe tbody tr th {\n",
       "        vertical-align: top;\n",
       "    }\n",
       "\n",
       "    .dataframe thead th {\n",
       "        text-align: right;\n",
       "    }\n",
       "</style>\n",
       "<table border=\"1\" class=\"dataframe\">\n",
       "  <thead>\n",
       "    <tr style=\"text-align: right;\">\n",
       "      <th></th>\n",
       "      <th>count</th>\n",
       "      <th>unique</th>\n",
       "      <th>top</th>\n",
       "      <th>freq</th>\n",
       "      <th>mean</th>\n",
       "      <th>std</th>\n",
       "      <th>min</th>\n",
       "      <th>25%</th>\n",
       "      <th>50%</th>\n",
       "      <th>75%</th>\n",
       "      <th>max</th>\n",
       "    </tr>\n",
       "  </thead>\n",
       "  <tbody>\n",
       "    <tr>\n",
       "      <th>Year</th>\n",
       "      <td>53808.0</td>\n",
       "      <td>NaN</td>\n",
       "      <td>NaN</td>\n",
       "      <td>NaN</td>\n",
       "      <td>2008.966566</td>\n",
       "      <td>3.787507</td>\n",
       "      <td>2003.0</td>\n",
       "      <td>2006.0</td>\n",
       "      <td>2009.0</td>\n",
       "      <td>2012.0</td>\n",
       "      <td>2015.0</td>\n",
       "    </tr>\n",
       "    <tr>\n",
       "      <th>Month</th>\n",
       "      <td>53808.0</td>\n",
       "      <td>NaN</td>\n",
       "      <td>NaN</td>\n",
       "      <td>NaN</td>\n",
       "      <td>6.660887</td>\n",
       "      <td>3.514729</td>\n",
       "      <td>1.0</td>\n",
       "      <td>4.0</td>\n",
       "      <td>7.0</td>\n",
       "      <td>10.0</td>\n",
       "      <td>12.0</td>\n",
       "    </tr>\n",
       "    <tr>\n",
       "      <th>Day</th>\n",
       "      <td>53808.0</td>\n",
       "      <td>NaN</td>\n",
       "      <td>NaN</td>\n",
       "      <td>NaN</td>\n",
       "      <td>4.197201</td>\n",
       "      <td>1.909393</td>\n",
       "      <td>1.0</td>\n",
       "      <td>3.0</td>\n",
       "      <td>4.0</td>\n",
       "      <td>6.0</td>\n",
       "      <td>7.0</td>\n",
       "    </tr>\n",
       "    <tr>\n",
       "      <th>Weekend?</th>\n",
       "      <td>53808</td>\n",
       "      <td>2</td>\n",
       "      <td>Weekday</td>\n",
       "      <td>40569</td>\n",
       "      <td>NaN</td>\n",
       "      <td>NaN</td>\n",
       "      <td>NaN</td>\n",
       "      <td>NaN</td>\n",
       "      <td>NaN</td>\n",
       "      <td>NaN</td>\n",
       "      <td>NaN</td>\n",
       "    </tr>\n",
       "    <tr>\n",
       "      <th>Hour</th>\n",
       "      <td>53808.0</td>\n",
       "      <td>NaN</td>\n",
       "      <td>NaN</td>\n",
       "      <td>NaN</td>\n",
       "      <td>1347.459763</td>\n",
       "      <td>530.439248</td>\n",
       "      <td>0.0</td>\n",
       "      <td>1000.0</td>\n",
       "      <td>1400.0</td>\n",
       "      <td>1700.0</td>\n",
       "      <td>2300.0</td>\n",
       "    </tr>\n",
       "    <tr>\n",
       "      <th>Collision Type</th>\n",
       "      <td>53808</td>\n",
       "      <td>7</td>\n",
       "      <td>2-Car</td>\n",
       "      <td>37508</td>\n",
       "      <td>NaN</td>\n",
       "      <td>NaN</td>\n",
       "      <td>NaN</td>\n",
       "      <td>NaN</td>\n",
       "      <td>NaN</td>\n",
       "      <td>NaN</td>\n",
       "      <td>NaN</td>\n",
       "    </tr>\n",
       "    <tr>\n",
       "      <th>Injury Type</th>\n",
       "      <td>53808</td>\n",
       "      <td>4</td>\n",
       "      <td>No injury/unknown</td>\n",
       "      <td>41485</td>\n",
       "      <td>NaN</td>\n",
       "      <td>NaN</td>\n",
       "      <td>NaN</td>\n",
       "      <td>NaN</td>\n",
       "      <td>NaN</td>\n",
       "      <td>NaN</td>\n",
       "      <td>NaN</td>\n",
       "    </tr>\n",
       "    <tr>\n",
       "      <th>Primary Factor</th>\n",
       "      <td>53808</td>\n",
       "      <td>55</td>\n",
       "      <td>FAILURE TO YIELD RIGHT OF WAY</td>\n",
       "      <td>12286</td>\n",
       "      <td>NaN</td>\n",
       "      <td>NaN</td>\n",
       "      <td>NaN</td>\n",
       "      <td>NaN</td>\n",
       "      <td>NaN</td>\n",
       "      <td>NaN</td>\n",
       "      <td>NaN</td>\n",
       "    </tr>\n",
       "    <tr>\n",
       "      <th>Reported_Location</th>\n",
       "      <td>53808</td>\n",
       "      <td>19355</td>\n",
       "      <td>E 3RD ST</td>\n",
       "      <td>374</td>\n",
       "      <td>NaN</td>\n",
       "      <td>NaN</td>\n",
       "      <td>NaN</td>\n",
       "      <td>NaN</td>\n",
       "      <td>NaN</td>\n",
       "      <td>NaN</td>\n",
       "      <td>NaN</td>\n",
       "    </tr>\n",
       "    <tr>\n",
       "      <th>Latitude</th>\n",
       "      <td>53808.0</td>\n",
       "      <td>NaN</td>\n",
       "      <td>NaN</td>\n",
       "      <td>NaN</td>\n",
       "      <td>35.602035</td>\n",
       "      <td>11.261566</td>\n",
       "      <td>0.0</td>\n",
       "      <td>39.142048</td>\n",
       "      <td>39.164436</td>\n",
       "      <td>39.173344</td>\n",
       "      <td>41.228665</td>\n",
       "    </tr>\n",
       "    <tr>\n",
       "      <th>Longitude</th>\n",
       "      <td>53808.0</td>\n",
       "      <td>NaN</td>\n",
       "      <td>NaN</td>\n",
       "      <td>NaN</td>\n",
       "      <td>-78.66328</td>\n",
       "      <td>24.895083</td>\n",
       "      <td>-88.959213</td>\n",
       "      <td>-86.551533</td>\n",
       "      <td>-86.530992</td>\n",
       "      <td>-86.508288</td>\n",
       "      <td>86.596363</td>\n",
       "    </tr>\n",
       "  </tbody>\n",
       "</table>\n",
       "</div>"
      ],
      "text/plain": [
       "                     count unique                            top   freq  \\\n",
       "Year               53808.0    NaN                            NaN    NaN   \n",
       "Month              53808.0    NaN                            NaN    NaN   \n",
       "Day                53808.0    NaN                            NaN    NaN   \n",
       "Weekend?             53808      2                        Weekday  40569   \n",
       "Hour               53808.0    NaN                            NaN    NaN   \n",
       "Collision Type       53808      7                          2-Car  37508   \n",
       "Injury Type          53808      4              No injury/unknown  41485   \n",
       "Primary Factor       53808     55  FAILURE TO YIELD RIGHT OF WAY  12286   \n",
       "Reported_Location    53808  19355                       E 3RD ST    374   \n",
       "Latitude           53808.0    NaN                            NaN    NaN   \n",
       "Longitude          53808.0    NaN                            NaN    NaN   \n",
       "\n",
       "                          mean         std        min        25%        50%  \\\n",
       "Year               2008.966566    3.787507     2003.0     2006.0     2009.0   \n",
       "Month                 6.660887    3.514729        1.0        4.0        7.0   \n",
       "Day                   4.197201    1.909393        1.0        3.0        4.0   \n",
       "Weekend?                   NaN         NaN        NaN        NaN        NaN   \n",
       "Hour               1347.459763  530.439248        0.0     1000.0     1400.0   \n",
       "Collision Type             NaN         NaN        NaN        NaN        NaN   \n",
       "Injury Type                NaN         NaN        NaN        NaN        NaN   \n",
       "Primary Factor             NaN         NaN        NaN        NaN        NaN   \n",
       "Reported_Location          NaN         NaN        NaN        NaN        NaN   \n",
       "Latitude             35.602035   11.261566        0.0  39.142048  39.164436   \n",
       "Longitude            -78.66328   24.895083 -88.959213 -86.551533 -86.530992   \n",
       "\n",
       "                         75%        max  \n",
       "Year                  2012.0     2015.0  \n",
       "Month                   10.0       12.0  \n",
       "Day                      6.0        7.0  \n",
       "Weekend?                 NaN        NaN  \n",
       "Hour                  1700.0     2300.0  \n",
       "Collision Type           NaN        NaN  \n",
       "Injury Type              NaN        NaN  \n",
       "Primary Factor           NaN        NaN  \n",
       "Reported_Location        NaN        NaN  \n",
       "Latitude           39.173344  41.228665  \n",
       "Longitude         -86.508288  86.596363  "
      ]
     },
     "execution_count": 22,
     "metadata": {},
     "output_type": "execute_result"
    }
   ],
   "source": [
    "car.describe(include=\"all\").T"
   ]
  },
  {
   "cell_type": "markdown",
   "id": "15dff232",
   "metadata": {},
   "source": [
    "- from the above table its almost clear that the chances for outliers are less\n",
    "- more number of accidents must have occured in the year 2012\n",
    "- more number of accidents occured month will be october\n",
    "- weekdays are having most number of crashes\n",
    "- collision type is having more numbers with a crash of two cars\n",
    "- primary factor is the failure to yield the right way\n"
   ]
  },
  {
   "cell_type": "code",
   "execution_count": 23,
   "id": "08a0da50",
   "metadata": {},
   "outputs": [
    {
     "data": {
      "text/html": [
       "<div>\n",
       "<style scoped>\n",
       "    .dataframe tbody tr th:only-of-type {\n",
       "        vertical-align: middle;\n",
       "    }\n",
       "\n",
       "    .dataframe tbody tr th {\n",
       "        vertical-align: top;\n",
       "    }\n",
       "\n",
       "    .dataframe thead th {\n",
       "        text-align: right;\n",
       "    }\n",
       "</style>\n",
       "<table border=\"1\" class=\"dataframe\">\n",
       "  <thead>\n",
       "    <tr style=\"text-align: right;\">\n",
       "      <th></th>\n",
       "      <th>Year</th>\n",
       "      <th>Month</th>\n",
       "      <th>Day</th>\n",
       "      <th>Weekend?</th>\n",
       "      <th>Hour</th>\n",
       "      <th>Collision Type</th>\n",
       "      <th>Injury Type</th>\n",
       "      <th>Primary Factor</th>\n",
       "      <th>Reported_Location</th>\n",
       "      <th>Latitude</th>\n",
       "      <th>Longitude</th>\n",
       "    </tr>\n",
       "  </thead>\n",
       "  <tbody>\n",
       "    <tr>\n",
       "      <th>0</th>\n",
       "      <td>2015</td>\n",
       "      <td>1</td>\n",
       "      <td>5</td>\n",
       "      <td>Weekday</td>\n",
       "      <td>0.0</td>\n",
       "      <td>2-Car</td>\n",
       "      <td>No injury/unknown</td>\n",
       "      <td>OTHER (DRIVER) - EXPLAIN IN NARRATIVE</td>\n",
       "      <td>1ST &amp; FESS</td>\n",
       "      <td>39.159207</td>\n",
       "      <td>-86.525874</td>\n",
       "    </tr>\n",
       "    <tr>\n",
       "      <th>1</th>\n",
       "      <td>2015</td>\n",
       "      <td>1</td>\n",
       "      <td>6</td>\n",
       "      <td>Weekday</td>\n",
       "      <td>1500.0</td>\n",
       "      <td>2-Car</td>\n",
       "      <td>No injury/unknown</td>\n",
       "      <td>FOLLOWING TOO CLOSELY</td>\n",
       "      <td>2ND &amp; COLLEGE</td>\n",
       "      <td>39.161440</td>\n",
       "      <td>-86.534848</td>\n",
       "    </tr>\n",
       "    <tr>\n",
       "      <th>2</th>\n",
       "      <td>2015</td>\n",
       "      <td>1</td>\n",
       "      <td>6</td>\n",
       "      <td>Weekend</td>\n",
       "      <td>2300.0</td>\n",
       "      <td>2-Car</td>\n",
       "      <td>Non-incapacitating</td>\n",
       "      <td>DISREGARD SIGNAL/REG SIGN</td>\n",
       "      <td>BASSWOOD &amp; BLOOMFIELD</td>\n",
       "      <td>39.149780</td>\n",
       "      <td>-86.568890</td>\n",
       "    </tr>\n",
       "    <tr>\n",
       "      <th>3</th>\n",
       "      <td>2015</td>\n",
       "      <td>1</td>\n",
       "      <td>7</td>\n",
       "      <td>Weekend</td>\n",
       "      <td>900.0</td>\n",
       "      <td>2-Car</td>\n",
       "      <td>Non-incapacitating</td>\n",
       "      <td>FAILURE TO YIELD RIGHT OF WAY</td>\n",
       "      <td>GATES &amp; JACOBS</td>\n",
       "      <td>39.165655</td>\n",
       "      <td>-86.575956</td>\n",
       "    </tr>\n",
       "    <tr>\n",
       "      <th>4</th>\n",
       "      <td>2015</td>\n",
       "      <td>1</td>\n",
       "      <td>7</td>\n",
       "      <td>Weekend</td>\n",
       "      <td>1100.0</td>\n",
       "      <td>2-Car</td>\n",
       "      <td>No injury/unknown</td>\n",
       "      <td>FAILURE TO YIELD RIGHT OF WAY</td>\n",
       "      <td>W 3RD</td>\n",
       "      <td>39.164848</td>\n",
       "      <td>-86.579625</td>\n",
       "    </tr>\n",
       "  </tbody>\n",
       "</table>\n",
       "</div>"
      ],
      "text/plain": [
       "   Year  Month  Day Weekend?    Hour Collision Type         Injury Type  \\\n",
       "0  2015      1    5  Weekday     0.0          2-Car   No injury/unknown   \n",
       "1  2015      1    6  Weekday  1500.0          2-Car   No injury/unknown   \n",
       "2  2015      1    6  Weekend  2300.0          2-Car  Non-incapacitating   \n",
       "3  2015      1    7  Weekend   900.0          2-Car  Non-incapacitating   \n",
       "4  2015      1    7  Weekend  1100.0          2-Car   No injury/unknown   \n",
       "\n",
       "                          Primary Factor      Reported_Location   Latitude  \\\n",
       "0  OTHER (DRIVER) - EXPLAIN IN NARRATIVE             1ST & FESS  39.159207   \n",
       "1                  FOLLOWING TOO CLOSELY          2ND & COLLEGE  39.161440   \n",
       "2              DISREGARD SIGNAL/REG SIGN  BASSWOOD & BLOOMFIELD  39.149780   \n",
       "3          FAILURE TO YIELD RIGHT OF WAY         GATES & JACOBS  39.165655   \n",
       "4          FAILURE TO YIELD RIGHT OF WAY                  W 3RD  39.164848   \n",
       "\n",
       "   Longitude  \n",
       "0 -86.525874  \n",
       "1 -86.534848  \n",
       "2 -86.568890  \n",
       "3 -86.575956  \n",
       "4 -86.579625  "
      ]
     },
     "execution_count": 23,
     "metadata": {},
     "output_type": "execute_result"
    }
   ],
   "source": [
    "car.head()"
   ]
  },
  {
   "cell_type": "code",
   "execution_count": 24,
   "id": "55eaad70",
   "metadata": {},
   "outputs": [
    {
     "data": {
      "text/plain": [
       "<Axes: xlabel='Weekend?', ylabel='count'>"
      ]
     },
     "execution_count": 24,
     "metadata": {},
     "output_type": "execute_result"
    },
    {
     "data": {
      "image/png": "[encoded data removed]",
      "text/plain": [
       "<Figure size 640x480 with 1 Axes>"
      ]
     },
     "metadata": {},
     "output_type": "display_data"
    }
   ],
   "source": [
    "sns.countplot(data=car,x=\"Weekend?\")"
   ]
  },
  {
   "cell_type": "markdown",
   "id": "1cd9aaa3",
   "metadata": {},
   "source": [
    "- weekdays are more prone to accidents\n",
    "- the reason increased traffic volume,rush hour fatigue,distractions,more complex driving conditions\n",
    "- weekend accidents are not less \n",
    "- the reasons may be speeding and impaired driving,recreational activities,teenagers on the road,weather conditions"
   ]
  },
  {
   "cell_type": "code",
   "execution_count": 25,
   "id": "b5adde8c",
   "metadata": {},
   "outputs": [
    {
     "data": {
      "text/plain": [
       "<Axes: xlabel='Month', ylabel='count'>"
      ]
     },
     "execution_count": 25,
     "metadata": {},
     "output_type": "execute_result"
    },
    {
     "data": {
      "image/png": "[encoded data removed]",
      "text/plain": [
       "<Figure size 640x480 with 1 Axes>"
      ]
     },
     "metadata": {},
     "output_type": "display_data"
    }
   ],
   "source": [
    "sns.countplot(data=car,x=\"Month\")"
   ]
  },
  {
   "cell_type": "markdown",
   "id": "ce475903",
   "metadata": {},
   "source": [
    "- october saw the most number of accidents followed by september then november\n",
    "- ther reasons may be Transition from summer to fall,Reduced daylight hours,Wet leaves and rain resulting in skidding \n",
    "- Holidays: October often sees holidays like Halloween and Thanksgiving, leading to more people traveling by car, which naturally increases the risk of accidents.\n",
    "- "
   ]
  },
  {
   "cell_type": "code",
   "execution_count": 26,
   "id": "491e6ed8",
   "metadata": {},
   "outputs": [
    {
     "data": {
      "text/plain": [
       "<Axes: xlabel='Year', ylabel='count'>"
      ]
     },
     "execution_count": 26,
     "metadata": {},
     "output_type": "execute_result"
    },
    {
     "data": {
      "image/png": "[encoded data removed]",
      "text/plain": [
       "<Figure size 640x480 with 1 Axes>"
      ]
     },
     "metadata": {},
     "output_type": "display_data"
    }
   ],
   "source": [
    "sns.countplot(data=car,x=\"Year\")"
   ]
  },
  {
   "cell_type": "markdown",
   "id": "8b456c3c",
   "metadata": {},
   "source": [
    "- 2003 was a year recorded with more number of accidents followed by 2008 then 2015"
   ]
  },
  {
   "cell_type": "code",
   "execution_count": 27,
   "id": "ba3d0399",
   "metadata": {},
   "outputs": [
    {
     "data": {
      "text/plain": [
       "<matplotlib.legend.Legend at 0x1ced29a7310>"
      ]
     },
     "execution_count": 27,
     "metadata": {},
     "output_type": "execute_result"
    },
    {
     "data": {
      "image/png": "[encoded data removed]",
      "text/plain": [
       "<Figure size 640x480 with 1 Axes>"
      ]
     },
     "metadata": {},
     "output_type": "display_data"
    }
   ],
   "source": [
    "sns.countplot(data=car,x=\"Year\",hue=\"Month\")\n",
    "plt.legend(bbox_to_anchor=(1.5,1), loc='upper right')"
   ]
  },
  {
   "cell_type": "markdown",
   "id": "05464015",
   "metadata": {},
   "source": [
    "- october got the highest accidents in the year 2003,2006 and 2012\n",
    "- feb and oct were the highest accident months in 2003 \n",
    "- the reasons of october have been given\n",
    "-  Icy roads and weather conditions due to winter storms can significantly increase the risk of skidding and loss of control, leading to more accidents. Additionally, reduced daylight hours might contribute to lower visibility and hamper driver judgment.\n",
    "- Major snowstorms or other weather events in February 2003 could have significantly impacted traffic flow and contributed to the higher accident rate. Additionally, local events like sporting events or holidays impacting travel during that time could be a factor"
   ]
  },
  {
   "cell_type": "code",
   "execution_count": 28,
   "id": "fc334ad1",
   "metadata": {},
   "outputs": [
    {
     "data": {
      "text/plain": [
       "<Axes: xlabel='Collision Type', ylabel='count'>"
      ]
     },
     "execution_count": 28,
     "metadata": {},
     "output_type": "execute_result"
    },
    {
     "data": {
      "image/png": "[encoded data removed]",
      "text/plain": [
       "<Figure size 640x480 with 1 Axes>"
      ]
     },
     "metadata": {},
     "output_type": "display_data"
    }
   ],
   "source": [
    "sns.countplot(data=car,x=\"Collision Type\")\n"
   ]
  },
  {
   "cell_type": "markdown",
   "id": "54ebb773",
   "metadata": {},
   "source": [
    "- 2 car collision contributed in a very big amount followed by 1 car then 3+ cars"
   ]
  },
  {
   "cell_type": "code",
   "execution_count": 29,
   "id": "c937e2f2",
   "metadata": {},
   "outputs": [
    {
     "data": {
      "text/plain": [
       "<Axes: ylabel='count'>"
      ]
     },
     "execution_count": 29,
     "metadata": {},
     "output_type": "execute_result"
    },
    {
     "data": {
      "image/png": "[encoded data removed]",
      "text/plain": [
       "<Figure size 640x480 with 1 Axes>"
      ]
     },
     "metadata": {},
     "output_type": "display_data"
    }
   ],
   "source": [
    "car[\"Primary Factor\"].value_counts().head(20).plot(kind=\"pie\",autopct = '%1.0f%%')\n"
   ]
  },
  {
   "cell_type": "markdown",
   "id": "dc2ddbc3",
   "metadata": {},
   "source": [
    "- 24% of crashes are due to the failure to yield right of way\n",
    "- 14% is because of not keeping fair distance between vehicles which may end in rear end collisions or chain reactions\n",
    "- 12% is because of other driver\n",
    "- 10% because of unsafe backing\n",
    "\n"
   ]
  },
  {
   "cell_type": "code",
   "execution_count": 30,
   "id": "5ef963de",
   "metadata": {},
   "outputs": [
    {
     "data": {
      "text/html": [
       "<div>\n",
       "<style scoped>\n",
       "    .dataframe tbody tr th:only-of-type {\n",
       "        vertical-align: middle;\n",
       "    }\n",
       "\n",
       "    .dataframe tbody tr th {\n",
       "        vertical-align: top;\n",
       "    }\n",
       "\n",
       "    .dataframe thead th {\n",
       "        text-align: right;\n",
       "    }\n",
       "</style>\n",
       "<table border=\"1\" class=\"dataframe\">\n",
       "  <thead>\n",
       "    <tr style=\"text-align: right;\">\n",
       "      <th></th>\n",
       "      <th>Year</th>\n",
       "      <th>Month</th>\n",
       "      <th>Day</th>\n",
       "      <th>Weekend?</th>\n",
       "      <th>Hour</th>\n",
       "      <th>Collision Type</th>\n",
       "      <th>Injury Type</th>\n",
       "      <th>Primary Factor</th>\n",
       "      <th>Reported_Location</th>\n",
       "      <th>Latitude</th>\n",
       "      <th>Longitude</th>\n",
       "    </tr>\n",
       "  </thead>\n",
       "  <tbody>\n",
       "    <tr>\n",
       "      <th>0</th>\n",
       "      <td>2015</td>\n",
       "      <td>1</td>\n",
       "      <td>5</td>\n",
       "      <td>Weekday</td>\n",
       "      <td>0.0</td>\n",
       "      <td>2-Car</td>\n",
       "      <td>No injury/unknown</td>\n",
       "      <td>OTHER (DRIVER) - EXPLAIN IN NARRATIVE</td>\n",
       "      <td>1ST &amp; FESS</td>\n",
       "      <td>39.159207</td>\n",
       "      <td>-86.525874</td>\n",
       "    </tr>\n",
       "    <tr>\n",
       "      <th>1</th>\n",
       "      <td>2015</td>\n",
       "      <td>1</td>\n",
       "      <td>6</td>\n",
       "      <td>Weekday</td>\n",
       "      <td>1500.0</td>\n",
       "      <td>2-Car</td>\n",
       "      <td>No injury/unknown</td>\n",
       "      <td>FOLLOWING TOO CLOSELY</td>\n",
       "      <td>2ND &amp; COLLEGE</td>\n",
       "      <td>39.161440</td>\n",
       "      <td>-86.534848</td>\n",
       "    </tr>\n",
       "    <tr>\n",
       "      <th>2</th>\n",
       "      <td>2015</td>\n",
       "      <td>1</td>\n",
       "      <td>6</td>\n",
       "      <td>Weekend</td>\n",
       "      <td>2300.0</td>\n",
       "      <td>2-Car</td>\n",
       "      <td>Non-incapacitating</td>\n",
       "      <td>DISREGARD SIGNAL/REG SIGN</td>\n",
       "      <td>BASSWOOD &amp; BLOOMFIELD</td>\n",
       "      <td>39.149780</td>\n",
       "      <td>-86.568890</td>\n",
       "    </tr>\n",
       "    <tr>\n",
       "      <th>3</th>\n",
       "      <td>2015</td>\n",
       "      <td>1</td>\n",
       "      <td>7</td>\n",
       "      <td>Weekend</td>\n",
       "      <td>900.0</td>\n",
       "      <td>2-Car</td>\n",
       "      <td>Non-incapacitating</td>\n",
       "      <td>FAILURE TO YIELD RIGHT OF WAY</td>\n",
       "      <td>GATES &amp; JACOBS</td>\n",
       "      <td>39.165655</td>\n",
       "      <td>-86.575956</td>\n",
       "    </tr>\n",
       "    <tr>\n",
       "      <th>4</th>\n",
       "      <td>2015</td>\n",
       "      <td>1</td>\n",
       "      <td>7</td>\n",
       "      <td>Weekend</td>\n",
       "      <td>1100.0</td>\n",
       "      <td>2-Car</td>\n",
       "      <td>No injury/unknown</td>\n",
       "      <td>FAILURE TO YIELD RIGHT OF WAY</td>\n",
       "      <td>W 3RD</td>\n",
       "      <td>39.164848</td>\n",
       "      <td>-86.579625</td>\n",
       "    </tr>\n",
       "  </tbody>\n",
       "</table>\n",
       "</div>"
      ],
      "text/plain": [
       "   Year  Month  Day Weekend?    Hour Collision Type         Injury Type  \\\n",
       "0  2015      1    5  Weekday     0.0          2-Car   No injury/unknown   \n",
       "1  2015      1    6  Weekday  1500.0          2-Car   No injury/unknown   \n",
       "2  2015      1    6  Weekend  2300.0          2-Car  Non-incapacitating   \n",
       "3  2015      1    7  Weekend   900.0          2-Car  Non-incapacitating   \n",
       "4  2015      1    7  Weekend  1100.0          2-Car   No injury/unknown   \n",
       "\n",
       "                          Primary Factor      Reported_Location   Latitude  \\\n",
       "0  OTHER (DRIVER) - EXPLAIN IN NARRATIVE             1ST & FESS  39.159207   \n",
       "1                  FOLLOWING TOO CLOSELY          2ND & COLLEGE  39.161440   \n",
       "2              DISREGARD SIGNAL/REG SIGN  BASSWOOD & BLOOMFIELD  39.149780   \n",
       "3          FAILURE TO YIELD RIGHT OF WAY         GATES & JACOBS  39.165655   \n",
       "4          FAILURE TO YIELD RIGHT OF WAY                  W 3RD  39.164848   \n",
       "\n",
       "   Longitude  \n",
       "0 -86.525874  \n",
       "1 -86.534848  \n",
       "2 -86.568890  \n",
       "3 -86.575956  \n",
       "4 -86.579625  "
      ]
     },
     "execution_count": 30,
     "metadata": {},
     "output_type": "execute_result"
    }
   ],
   "source": [
    "car.head()"
   ]
  },
  {
   "cell_type": "code",
   "execution_count": 31,
   "id": "6caddce4",
   "metadata": {},
   "outputs": [
    {
     "data": {
      "text/plain": [
       "<Axes: xlabel='Reported_Location'>"
      ]
     },
     "execution_count": 31,
     "metadata": {},
     "output_type": "execute_result"
    },
    {
     "data": {
      "image/png": "[encoded data removed]",
      "text/plain": [
       "<Figure size 640x480 with 1 Axes>"
      ]
     },
     "metadata": {},
     "output_type": "display_data"
    }
   ],
   "source": [
    "car[\"Reported_Location\"].value_counts().head(30).plot(kind=\"bar\")"
   ]
  },
  {
   "cell_type": "markdown",
   "id": "f9dfaa03",
   "metadata": {},
   "source": [
    "- the most accident prone area we can tell as E 3rd ST and W 3rd ST"
   ]
  },
  {
   "cell_type": "code",
   "execution_count": 32,
   "id": "88b666be",
   "metadata": {},
   "outputs": [
    {
     "data": {
      "text/plain": [
       "(array([ 0,  1,  2,  3,  4,  5,  6,  7,  8,  9, 10, 11, 12, 13, 14, 15, 16,\n",
       "        17, 18, 19, 20, 21, 22, 23, 24]),\n",
       " [Text(0, 0, 'FAILURE TO YIELD RIGHT OF WAY'),\n",
       "  Text(1, 0, 'FOLLOWING TOO CLOSELY'),\n",
       "  Text(2, 0, 'OTHER (DRIVER) - EXPLAIN IN NARRATIVE'),\n",
       "  Text(3, 0, 'UNSAFE BACKING'),\n",
       "  Text(4, 0, 'RAN OFF ROAD RIGHT'),\n",
       "  Text(5, 0, 'DISREGARD SIGNAL/REG SIGN'),\n",
       "  Text(6, 0, 'SPEED TOO FAST FOR WEATHER CONDITIONS'),\n",
       "  Text(7, 0, 'IMPROPER TURNING'),\n",
       "  Text(8, 0, 'ANIMAL/OBJECT IN ROADWAY'),\n",
       "  Text(9, 0, 'DRIVER DISTRACTED - EXPLAIN IN NARRATIVE'),\n",
       "  Text(10, 0, 'UNSAFE SPEED'),\n",
       "  Text(11, 0, 'ROADWAY SURFACE CONDITION'),\n",
       "  Text(12, 0, 'LEFT OF CENTER'),\n",
       "  Text(13, 0, 'IMPROPER LANE USAGE'),\n",
       "  Text(14, 0, 'ALCOHOLIC BEVERAGES'),\n",
       "  Text(15, 0, 'UNSAFE LANE MOVEMENT'),\n",
       "  Text(16, 0, 'OVERCORRECTING/OVERSTEERING'),\n",
       "  Text(17, 0, 'IMPROPER PASSING'),\n",
       "  Text(18, 0, 'OTHER (VEHICLE) - EXPLAIN IN NARRATIVE'),\n",
       "  Text(19, 0, 'OTHER (ENVIRONMENTAL) - EXPLAIN IN NARR'),\n",
       "  Text(20, 0, 'BRAKE FAILURE OR DEFECTIVE'),\n",
       "  Text(21, 0, 'PEDESTRIAN ACTION'),\n",
       "  Text(22, 0, 'DRIVER ASLEEP OR FATIGUED'),\n",
       "  Text(23, 0, 'DRIVER ILLNESS'),\n",
       "  Text(24, 0, 'VIEW OBSTRUCTED')])"
      ]
     },
     "execution_count": 32,
     "metadata": {},
     "output_type": "execute_result"
    },
    {
     "data": {
      "image/png": "[encoded data removed]",
      "text/plain": [
       "<Figure size 640x480 with 1 Axes>"
      ]
     },
     "metadata": {},
     "output_type": "display_data"
    }
   ],
   "source": [
    "car[\"Primary Factor\"].value_counts().head(25).plot(kind=\"bar\")\n",
    "plt.xticks(rotation=90)"
   ]
  },
  {
   "cell_type": "code",
   "execution_count": 33,
   "id": "9259b54f",
   "metadata": {},
   "outputs": [
    {
     "data": {
      "text/plain": [
       "Primary Factor\n",
       "FAILURE TO YIELD RIGHT OF WAY               0.228330\n",
       "FOLLOWING TOO CLOSELY                       0.136467\n",
       "OTHER (DRIVER) - EXPLAIN IN NARRATIVE       0.114054\n",
       "UNSAFE BACKING                              0.096250\n",
       "RAN OFF ROAD RIGHT                          0.054286\n",
       "DISREGARD SIGNAL/REG SIGN                   0.040942\n",
       "SPEED TOO FAST FOR WEATHER CONDITIONS       0.035478\n",
       "IMPROPER TURNING                            0.034214\n",
       "ANIMAL/OBJECT IN ROADWAY                    0.031278\n",
       "DRIVER DISTRACTED - EXPLAIN IN NARRATIVE    0.030739\n",
       "UNSAFE SPEED                                0.027821\n",
       "ROADWAY SURFACE CONDITION                   0.023398\n",
       "LEFT OF CENTER                              0.019960\n",
       "IMPROPER LANE USAGE                         0.018231\n",
       "ALCOHOLIC BEVERAGES                         0.014942\n",
       "UNSAFE LANE MOVEMENT                        0.013994\n",
       "OVERCORRECTING/OVERSTEERING                 0.011095\n",
       "IMPROPER PASSING                            0.009181\n",
       "OTHER (VEHICLE) - EXPLAIN IN NARRATIVE      0.008753\n",
       "OTHER (ENVIRONMENTAL) - EXPLAIN IN NARR     0.007750\n",
       "BRAKE FAILURE OR DEFECTIVE                  0.006709\n",
       "PEDESTRIAN ACTION                           0.005427\n",
       "DRIVER ASLEEP OR FATIGUED                   0.004962\n",
       "DRIVER ILLNESS                              0.003345\n",
       "VIEW OBSTRUCTED                             0.003252\n",
       "CELL PHONE USAGE                            0.002620\n",
       "NONE (DRIVER)                               0.002156\n",
       "WRONG WAY ON ONE WAY                        0.001914\n",
       "TIRE FAILURE OR DEFECTIVE                   0.001561\n",
       "RAN OFF ROAD LEFT                           0.001096\n",
       "PRESCRIPTION DRUGS                          0.001078\n",
       "GLARE                                       0.000985\n",
       "ACCELERATOR FAILURE OR DEFECTIVE            0.000929\n",
       "INSECURE/LEAKY LOAD                         0.000855\n",
       "OBSTRUCTION NOT MARKED                      0.000688\n",
       "STEERING FAILURE                            0.000576\n",
       "PASSENGER DISTRACTION                       0.000576\n",
       "ILLEGAL DRUGS                               0.000539\n",
       "OTHER TELEMATICS IN USE                     0.000520\n",
       "OVERSIZE/OVERWEIGHT LOAD                    0.000483\n",
       "ENGINE FAILURE OR DEFECTIVE                 0.000465\n",
       "HEADLIGHT DEFECTIVE OR NOT ON               0.000353\n",
       "HOLES/RUTS IN SURFACE                       0.000279\n",
       "TRAFFIC CONTROL INOPERATIVE/MISSING/OBSC    0.000223\n",
       "NONE (ENVIRONMENTAL)                        0.000223\n",
       "NONE (VEHICLE)                              0.000204\n",
       "OTHER LIGHTS DEFECTIVE                      0.000186\n",
       "TOW HITCH FAILURE                           0.000149\n",
       "ROAD UNDER CONSTRUCTION                     0.000130\n",
       "JACKKNIFING                                 0.000112\n",
       "SEVERE CROSSWINDS                           0.000074\n",
       "LANE MARKING OBSCURED                       0.000056\n",
       "VIOLATION OF LICENSE RESTRICTION            0.000056\n",
       "SHOULDER DEFECTIVE                          0.000037\n",
       "UTILITY WORK                                0.000019\n",
       "Name: proportion, dtype: float64"
      ]
     },
     "execution_count": 33,
     "metadata": {},
     "output_type": "execute_result"
    }
   ],
   "source": [
    "car[\"Primary Factor\"].value_counts(normalize=True)"
   ]
  },
  {
   "cell_type": "code",
   "execution_count": 34,
   "id": "9b81caf5",
   "metadata": {},
   "outputs": [
    {
     "data": {
      "text/html": [
       "<div>\n",
       "<style scoped>\n",
       "    .dataframe tbody tr th:only-of-type {\n",
       "        vertical-align: middle;\n",
       "    }\n",
       "\n",
       "    .dataframe tbody tr th {\n",
       "        vertical-align: top;\n",
       "    }\n",
       "\n",
       "    .dataframe thead th {\n",
       "        text-align: right;\n",
       "    }\n",
       "</style>\n",
       "<table border=\"1\" class=\"dataframe\">\n",
       "  <thead>\n",
       "    <tr style=\"text-align: right;\">\n",
       "      <th></th>\n",
       "      <th>Year</th>\n",
       "      <th>Month</th>\n",
       "      <th>Day</th>\n",
       "      <th>Weekend?</th>\n",
       "      <th>Hour</th>\n",
       "      <th>Collision Type</th>\n",
       "      <th>Injury Type</th>\n",
       "      <th>Primary Factor</th>\n",
       "      <th>Reported_Location</th>\n",
       "      <th>Latitude</th>\n",
       "      <th>Longitude</th>\n",
       "    </tr>\n",
       "  </thead>\n",
       "  <tbody>\n",
       "    <tr>\n",
       "      <th>0</th>\n",
       "      <td>2015</td>\n",
       "      <td>1</td>\n",
       "      <td>5</td>\n",
       "      <td>Weekday</td>\n",
       "      <td>0.0</td>\n",
       "      <td>2-Car</td>\n",
       "      <td>No injury/unknown</td>\n",
       "      <td>OTHER (DRIVER) - EXPLAIN IN NARRATIVE</td>\n",
       "      <td>1ST &amp; FESS</td>\n",
       "      <td>39.159207</td>\n",
       "      <td>-86.525874</td>\n",
       "    </tr>\n",
       "    <tr>\n",
       "      <th>1</th>\n",
       "      <td>2015</td>\n",
       "      <td>1</td>\n",
       "      <td>6</td>\n",
       "      <td>Weekday</td>\n",
       "      <td>1500.0</td>\n",
       "      <td>2-Car</td>\n",
       "      <td>No injury/unknown</td>\n",
       "      <td>FOLLOWING TOO CLOSELY</td>\n",
       "      <td>2ND &amp; COLLEGE</td>\n",
       "      <td>39.161440</td>\n",
       "      <td>-86.534848</td>\n",
       "    </tr>\n",
       "    <tr>\n",
       "      <th>2</th>\n",
       "      <td>2015</td>\n",
       "      <td>1</td>\n",
       "      <td>6</td>\n",
       "      <td>Weekend</td>\n",
       "      <td>2300.0</td>\n",
       "      <td>2-Car</td>\n",
       "      <td>Non-incapacitating</td>\n",
       "      <td>DISREGARD SIGNAL/REG SIGN</td>\n",
       "      <td>BASSWOOD &amp; BLOOMFIELD</td>\n",
       "      <td>39.149780</td>\n",
       "      <td>-86.568890</td>\n",
       "    </tr>\n",
       "    <tr>\n",
       "      <th>3</th>\n",
       "      <td>2015</td>\n",
       "      <td>1</td>\n",
       "      <td>7</td>\n",
       "      <td>Weekend</td>\n",
       "      <td>900.0</td>\n",
       "      <td>2-Car</td>\n",
       "      <td>Non-incapacitating</td>\n",
       "      <td>FAILURE TO YIELD RIGHT OF WAY</td>\n",
       "      <td>GATES &amp; JACOBS</td>\n",
       "      <td>39.165655</td>\n",
       "      <td>-86.575956</td>\n",
       "    </tr>\n",
       "    <tr>\n",
       "      <th>4</th>\n",
       "      <td>2015</td>\n",
       "      <td>1</td>\n",
       "      <td>7</td>\n",
       "      <td>Weekend</td>\n",
       "      <td>1100.0</td>\n",
       "      <td>2-Car</td>\n",
       "      <td>No injury/unknown</td>\n",
       "      <td>FAILURE TO YIELD RIGHT OF WAY</td>\n",
       "      <td>W 3RD</td>\n",
       "      <td>39.164848</td>\n",
       "      <td>-86.579625</td>\n",
       "    </tr>\n",
       "  </tbody>\n",
       "</table>\n",
       "</div>"
      ],
      "text/plain": [
       "   Year  Month  Day Weekend?    Hour Collision Type         Injury Type  \\\n",
       "0  2015      1    5  Weekday     0.0          2-Car   No injury/unknown   \n",
       "1  2015      1    6  Weekday  1500.0          2-Car   No injury/unknown   \n",
       "2  2015      1    6  Weekend  2300.0          2-Car  Non-incapacitating   \n",
       "3  2015      1    7  Weekend   900.0          2-Car  Non-incapacitating   \n",
       "4  2015      1    7  Weekend  1100.0          2-Car   No injury/unknown   \n",
       "\n",
       "                          Primary Factor      Reported_Location   Latitude  \\\n",
       "0  OTHER (DRIVER) - EXPLAIN IN NARRATIVE             1ST & FESS  39.159207   \n",
       "1                  FOLLOWING TOO CLOSELY          2ND & COLLEGE  39.161440   \n",
       "2              DISREGARD SIGNAL/REG SIGN  BASSWOOD & BLOOMFIELD  39.149780   \n",
       "3          FAILURE TO YIELD RIGHT OF WAY         GATES & JACOBS  39.165655   \n",
       "4          FAILURE TO YIELD RIGHT OF WAY                  W 3RD  39.164848   \n",
       "\n",
       "   Longitude  \n",
       "0 -86.525874  \n",
       "1 -86.534848  \n",
       "2 -86.568890  \n",
       "3 -86.575956  \n",
       "4 -86.579625  "
      ]
     },
     "execution_count": 34,
     "metadata": {},
     "output_type": "execute_result"
    }
   ],
   "source": [
    "car.head()"
   ]
  },
  {
   "cell_type": "code",
   "execution_count": 35,
   "id": "830e49af",
   "metadata": {},
   "outputs": [
    {
     "data": {
      "text/plain": [
       "<Axes: xlabel='Hour'>"
      ]
     },
     "execution_count": 35,
     "metadata": {},
     "output_type": "execute_result"
    },
    {
     "data": {
      "image/png": "[encoded data removed]",
      "text/plain": [
       "<Figure size 640x480 with 1 Axes>"
      ]
     },
     "metadata": {},
     "output_type": "display_data"
    }
   ],
   "source": [
    "car[\"Hour\"].value_counts().plot(kind=\"bar\")"
   ]
  },
  {
   "cell_type": "markdown",
   "id": "c76fedad",
   "metadata": {},
   "source": [
    "- 5pm was a time with more number of accidents followed by 4pm , 3pm , 12 pm\n",
    "- mainly because of the rush hour traffic\n",
    "- the driver can be tired by working all day\n",
    "- according to the place there is chance of less day light during this time\n",
    "- less car crashes are seen during midnight\n",
    "- In some regions, 5 pm might mark the transition from afternoon sun to cooler evening temperatures. This can cause changes in road conditions, like condensation or dew formation, making roads slicker and increasing the risk of skidding accidents"
   ]
  },
  {
   "cell_type": "code",
   "execution_count": 36,
   "id": "fba20894",
   "metadata": {},
   "outputs": [
    {
     "data": {
      "text/plain": [
       "<Axes: ylabel='count'>"
      ]
     },
     "execution_count": 36,
     "metadata": {},
     "output_type": "execute_result"
    },
    {
     "data": {
      "image/png": "[encoded data removed]",
      "text/plain": [
       "<Figure size 640x480 with 1 Axes>"
      ]
     },
     "metadata": {},
     "output_type": "display_data"
    }
   ],
   "source": [
    "car[\"Injury Type\"].value_counts().plot(kind=\"pie\",autopct=\"%0.1f%%\")"
   ]
  },
  {
   "cell_type": "markdown",
   "id": "1f6d56a6",
   "metadata": {},
   "source": [
    "- 77% of car crashes are with no injury\n",
    "- 20.7% non incapacitating which means small injuries that doesnot affect their daily activities\n",
    "- 2% incapacitating which means their will be big injuries that limit your ability to complete with daily activities\n",
    "- only 0.2% is fatal"
   ]
  },
  {
   "cell_type": "code",
   "execution_count": 37,
   "id": "95363fd7",
   "metadata": {},
   "outputs": [],
   "source": [
    "fatal=car[car[\"Injury Type\"]==\"Fatal\"]"
   ]
  },
  {
   "cell_type": "code",
   "execution_count": 38,
   "id": "e8e43bb3",
   "metadata": {},
   "outputs": [
    {
     "data": {
      "text/html": [
       "<div>\n",
       "<style scoped>\n",
       "    .dataframe tbody tr th:only-of-type {\n",
       "        vertical-align: middle;\n",
       "    }\n",
       "\n",
       "    .dataframe tbody tr th {\n",
       "        vertical-align: top;\n",
       "    }\n",
       "\n",
       "    .dataframe thead th {\n",
       "        text-align: right;\n",
       "    }\n",
       "</style>\n",
       "<table border=\"1\" class=\"dataframe\">\n",
       "  <thead>\n",
       "    <tr style=\"text-align: right;\">\n",
       "      <th></th>\n",
       "      <th>Year</th>\n",
       "      <th>Month</th>\n",
       "      <th>Day</th>\n",
       "      <th>Weekend?</th>\n",
       "      <th>Hour</th>\n",
       "      <th>Collision Type</th>\n",
       "      <th>Injury Type</th>\n",
       "      <th>Primary Factor</th>\n",
       "      <th>Reported_Location</th>\n",
       "      <th>Latitude</th>\n",
       "      <th>Longitude</th>\n",
       "    </tr>\n",
       "  </thead>\n",
       "  <tbody>\n",
       "    <tr>\n",
       "      <th>530</th>\n",
       "      <td>2015</td>\n",
       "      <td>4</td>\n",
       "      <td>6</td>\n",
       "      <td>Weekday</td>\n",
       "      <td>1600.0</td>\n",
       "      <td>1-Car</td>\n",
       "      <td>Fatal</td>\n",
       "      <td>RAN OFF ROAD RIGHT</td>\n",
       "      <td>DUNCAN &amp; W LEONARD SPRINGS</td>\n",
       "      <td>39.122352</td>\n",
       "      <td>-86.596400</td>\n",
       "    </tr>\n",
       "    <tr>\n",
       "      <th>531</th>\n",
       "      <td>2015</td>\n",
       "      <td>4</td>\n",
       "      <td>7</td>\n",
       "      <td>Weekend</td>\n",
       "      <td>1500.0</td>\n",
       "      <td>2-Car</td>\n",
       "      <td>Fatal</td>\n",
       "      <td>RAN OFF ROAD RIGHT</td>\n",
       "      <td>KIRBY &amp; W ST RD 48</td>\n",
       "      <td>39.059185</td>\n",
       "      <td>-86.610820</td>\n",
       "    </tr>\n",
       "    <tr>\n",
       "      <th>649</th>\n",
       "      <td>2015</td>\n",
       "      <td>1</td>\n",
       "      <td>4</td>\n",
       "      <td>Weekday</td>\n",
       "      <td>1700.0</td>\n",
       "      <td>2-Car</td>\n",
       "      <td>Fatal</td>\n",
       "      <td>OTHER (DRIVER) - EXPLAIN IN NARRATIVE</td>\n",
       "      <td>SR 45</td>\n",
       "      <td>39.125312</td>\n",
       "      <td>-86.610496</td>\n",
       "    </tr>\n",
       "    <tr>\n",
       "      <th>1334</th>\n",
       "      <td>2015</td>\n",
       "      <td>4</td>\n",
       "      <td>1</td>\n",
       "      <td>Weekend</td>\n",
       "      <td>700.0</td>\n",
       "      <td>1-Car</td>\n",
       "      <td>Fatal</td>\n",
       "      <td>RAN OFF ROAD RIGHT</td>\n",
       "      <td>INGRAM &amp; SR37N</td>\n",
       "      <td>39.002892</td>\n",
       "      <td>-86.537282</td>\n",
       "    </tr>\n",
       "    <tr>\n",
       "      <th>1873</th>\n",
       "      <td>2015</td>\n",
       "      <td>6</td>\n",
       "      <td>3</td>\n",
       "      <td>Weekday</td>\n",
       "      <td>2200.0</td>\n",
       "      <td>Moped/Motorcycle</td>\n",
       "      <td>Fatal</td>\n",
       "      <td>RAN OFF ROAD RIGHT</td>\n",
       "      <td>SR37S &amp; STATE ROAD 45</td>\n",
       "      <td>39.252134</td>\n",
       "      <td>-86.575043</td>\n",
       "    </tr>\n",
       "    <tr>\n",
       "      <th>...</th>\n",
       "      <td>...</td>\n",
       "      <td>...</td>\n",
       "      <td>...</td>\n",
       "      <td>...</td>\n",
       "      <td>...</td>\n",
       "      <td>...</td>\n",
       "      <td>...</td>\n",
       "      <td>...</td>\n",
       "      <td>...</td>\n",
       "      <td>...</td>\n",
       "      <td>...</td>\n",
       "    </tr>\n",
       "    <tr>\n",
       "      <th>53043</th>\n",
       "      <td>2003</td>\n",
       "      <td>6</td>\n",
       "      <td>5</td>\n",
       "      <td>Weekday</td>\n",
       "      <td>700.0</td>\n",
       "      <td>2-Car</td>\n",
       "      <td>Fatal</td>\n",
       "      <td>LEFT OF CENTER</td>\n",
       "      <td>FULLERTON PIKE &amp; SR 37</td>\n",
       "      <td>39.122332</td>\n",
       "      <td>-86.569889</td>\n",
       "    </tr>\n",
       "    <tr>\n",
       "      <th>53289</th>\n",
       "      <td>2003</td>\n",
       "      <td>4</td>\n",
       "      <td>7</td>\n",
       "      <td>Weekend</td>\n",
       "      <td>0.0</td>\n",
       "      <td>Moped/Motorcycle</td>\n",
       "      <td>Fatal</td>\n",
       "      <td>ALCOHOLIC BEVERAGES</td>\n",
       "      <td>CLEVE BUTCHER &amp; FAIRFAX</td>\n",
       "      <td>39.060039</td>\n",
       "      <td>-86.498433</td>\n",
       "    </tr>\n",
       "    <tr>\n",
       "      <th>53665</th>\n",
       "      <td>2003</td>\n",
       "      <td>10</td>\n",
       "      <td>6</td>\n",
       "      <td>Weekday</td>\n",
       "      <td>400.0</td>\n",
       "      <td>1-Car</td>\n",
       "      <td>Fatal</td>\n",
       "      <td>RAN OFF ROAD LEFT</td>\n",
       "      <td>CEDAR BLUFF &amp; SR37</td>\n",
       "      <td>0.000000</td>\n",
       "      <td>0.000000</td>\n",
       "    </tr>\n",
       "    <tr>\n",
       "      <th>53681</th>\n",
       "      <td>2003</td>\n",
       "      <td>5</td>\n",
       "      <td>4</td>\n",
       "      <td>Weekday</td>\n",
       "      <td>1700.0</td>\n",
       "      <td>2-Car</td>\n",
       "      <td>Fatal</td>\n",
       "      <td>LEFT OF CENTER</td>\n",
       "      <td>BURGOON CHAPEL &amp; SR446</td>\n",
       "      <td>0.000000</td>\n",
       "      <td>0.000000</td>\n",
       "    </tr>\n",
       "    <tr>\n",
       "      <th>53685</th>\n",
       "      <td>2003</td>\n",
       "      <td>7</td>\n",
       "      <td>5</td>\n",
       "      <td>Weekday</td>\n",
       "      <td>500.0</td>\n",
       "      <td>1-Car</td>\n",
       "      <td>Fatal</td>\n",
       "      <td>PEDESTRIAN ACTION</td>\n",
       "      <td>RHORER RED &amp; SR37</td>\n",
       "      <td>0.000000</td>\n",
       "      <td>0.000000</td>\n",
       "    </tr>\n",
       "  </tbody>\n",
       "</table>\n",
       "<p>115 rows × 11 columns</p>\n",
       "</div>"
      ],
      "text/plain": [
       "       Year  Month  Day Weekend?    Hour    Collision Type Injury Type  \\\n",
       "530    2015      4    6  Weekday  1600.0             1-Car       Fatal   \n",
       "531    2015      4    7  Weekend  1500.0             2-Car       Fatal   \n",
       "649    2015      1    4  Weekday  1700.0             2-Car       Fatal   \n",
       "1334   2015      4    1  Weekend   700.0             1-Car       Fatal   \n",
       "1873   2015      6    3  Weekday  2200.0  Moped/Motorcycle       Fatal   \n",
       "...     ...    ...  ...      ...     ...               ...         ...   \n",
       "53043  2003      6    5  Weekday   700.0             2-Car       Fatal   \n",
       "53289  2003      4    7  Weekend     0.0  Moped/Motorcycle       Fatal   \n",
       "53665  2003     10    6  Weekday   400.0             1-Car       Fatal   \n",
       "53681  2003      5    4  Weekday  1700.0             2-Car       Fatal   \n",
       "53685  2003      7    5  Weekday   500.0             1-Car       Fatal   \n",
       "\n",
       "                              Primary Factor           Reported_Location  \\\n",
       "530                       RAN OFF ROAD RIGHT  DUNCAN & W LEONARD SPRINGS   \n",
       "531                       RAN OFF ROAD RIGHT          KIRBY & W ST RD 48   \n",
       "649    OTHER (DRIVER) - EXPLAIN IN NARRATIVE                       SR 45   \n",
       "1334                      RAN OFF ROAD RIGHT              INGRAM & SR37N   \n",
       "1873                      RAN OFF ROAD RIGHT       SR37S & STATE ROAD 45   \n",
       "...                                      ...                         ...   \n",
       "53043                         LEFT OF CENTER      FULLERTON PIKE & SR 37   \n",
       "53289                    ALCOHOLIC BEVERAGES     CLEVE BUTCHER & FAIRFAX   \n",
       "53665                      RAN OFF ROAD LEFT          CEDAR BLUFF & SR37   \n",
       "53681                         LEFT OF CENTER      BURGOON CHAPEL & SR446   \n",
       "53685                      PEDESTRIAN ACTION           RHORER RED & SR37   \n",
       "\n",
       "        Latitude  Longitude  \n",
       "530    39.122352 -86.596400  \n",
       "531    39.059185 -86.610820  \n",
       "649    39.125312 -86.610496  \n",
       "1334   39.002892 -86.537282  \n",
       "1873   39.252134 -86.575043  \n",
       "...          ...        ...  \n",
       "53043  39.122332 -86.569889  \n",
       "53289  39.060039 -86.498433  \n",
       "53665   0.000000   0.000000  \n",
       "53681   0.000000   0.000000  \n",
       "53685   0.000000   0.000000  \n",
       "\n",
       "[115 rows x 11 columns]"
      ]
     },
     "execution_count": 38,
     "metadata": {},
     "output_type": "execute_result"
    }
   ],
   "source": [
    "fatal"
   ]
  },
  {
   "cell_type": "code",
   "execution_count": 39,
   "id": "6b9003db",
   "metadata": {},
   "outputs": [
    {
     "data": {
      "text/plain": [
       "Collision Type\n",
       "1-Car               49\n",
       "2-Car               31\n",
       "Moped/Motorcycle    21\n",
       "Pedestrian           8\n",
       "3+ Cars              5\n",
       "Bus                  1\n",
       "Name: count, dtype: int64"
      ]
     },
     "execution_count": 39,
     "metadata": {},
     "output_type": "execute_result"
    }
   ],
   "source": [
    "fatal[\"Collision Type\"].value_counts()"
   ]
  },
  {
   "cell_type": "code",
   "execution_count": 40,
   "id": "36b2fc45",
   "metadata": {},
   "outputs": [
    {
     "data": {
      "text/plain": [
       "Primary Factor\n",
       "RAN OFF ROAD RIGHT                       24\n",
       "UNSAFE SPEED                              7\n",
       "ALCOHOLIC BEVERAGES                       5\n",
       "OTHER (DRIVER) - EXPLAIN IN NARRATIVE     3\n",
       "RAN OFF ROAD LEFT                         3\n",
       "PEDESTRIAN ACTION                         2\n",
       "OBSTRUCTION NOT MARKED                    1\n",
       "LEFT OF CENTER                            1\n",
       "OVERCORRECTING/OVERSTEERING               1\n",
       "ROADWAY SURFACE CONDITION                 1\n",
       "DRIVER ASLEEP OR FATIGUED                 1\n",
       "Name: count, dtype: int64"
      ]
     },
     "execution_count": 40,
     "metadata": {},
     "output_type": "execute_result"
    }
   ],
   "source": [
    "fatal[fatal[\"Collision Type\"]==\"1-Car\"][\"Primary Factor\"].value_counts()"
   ]
  },
  {
   "cell_type": "markdown",
   "id": "744618d5",
   "metadata": {},
   "source": [
    "- ran off road right was more which caused fatal injuries in single car accident , The vehicle moving sideways and crossed the right edge of the road, potentially onto the shoulder, sidewalk, or into a ditch \n",
    "- loss of control\n",
    "- the vehicle might have bumped into posts , fences or some obstacles\n"
   ]
  },
  {
   "cell_type": "code",
   "execution_count": 41,
   "id": "db9f54cd",
   "metadata": {},
   "outputs": [
    {
     "data": {
      "text/plain": [
       "Primary Factor\n",
       "LEFT OF CENTER                             13\n",
       "FAILURE TO YIELD RIGHT OF WAY               4\n",
       "DISREGARD SIGNAL/REG SIGN                   3\n",
       "OTHER (DRIVER) - EXPLAIN IN NARRATIVE       2\n",
       "OVERCORRECTING/OVERSTEERING                 2\n",
       "UNSAFE SPEED                                2\n",
       "RAN OFF ROAD RIGHT                          1\n",
       "ACCELERATOR FAILURE OR DEFECTIVE            1\n",
       "IMPROPER PASSING                            1\n",
       "OTHER (ENVIRONMENTAL) - EXPLAIN IN NARR     1\n",
       "SPEED TOO FAST FOR WEATHER CONDITIONS       1\n",
       "Name: count, dtype: int64"
      ]
     },
     "execution_count": 41,
     "metadata": {},
     "output_type": "execute_result"
    }
   ],
   "source": [
    "fatal[fatal[\"Collision Type\"]==\"2-Car\"][\"Primary Factor\"].value_counts()"
   ]
  },
  {
   "cell_type": "markdown",
   "id": "8112cc02",
   "metadata": {},
   "source": [
    "- left of center came to be the main reason for fatal injuries in 2 car collision resulting in lane change and colliding car coming in opp direction\n",
    "- Improper passing\n",
    "- Turning or merging accidents\n"
   ]
  },
  {
   "cell_type": "code",
   "execution_count": 42,
   "id": "65ddd95f",
   "metadata": {},
   "outputs": [],
   "source": [
    "incap=car[car[\"Injury Type\"]==\"Incapacitating\"]"
   ]
  },
  {
   "cell_type": "code",
   "execution_count": 43,
   "id": "32afb88e",
   "metadata": {
    "scrolled": true
   },
   "outputs": [
    {
     "data": {
      "text/html": [
       "<div>\n",
       "<style scoped>\n",
       "    .dataframe tbody tr th:only-of-type {\n",
       "        vertical-align: middle;\n",
       "    }\n",
       "\n",
       "    .dataframe tbody tr th {\n",
       "        vertical-align: top;\n",
       "    }\n",
       "\n",
       "    .dataframe thead th {\n",
       "        text-align: right;\n",
       "    }\n",
       "</style>\n",
       "<table border=\"1\" class=\"dataframe\">\n",
       "  <thead>\n",
       "    <tr style=\"text-align: right;\">\n",
       "      <th></th>\n",
       "      <th>Year</th>\n",
       "      <th>Month</th>\n",
       "      <th>Day</th>\n",
       "      <th>Weekend?</th>\n",
       "      <th>Hour</th>\n",
       "      <th>Collision Type</th>\n",
       "      <th>Injury Type</th>\n",
       "      <th>Primary Factor</th>\n",
       "      <th>Reported_Location</th>\n",
       "      <th>Latitude</th>\n",
       "      <th>Longitude</th>\n",
       "    </tr>\n",
       "  </thead>\n",
       "  <tbody>\n",
       "    <tr>\n",
       "      <th>7</th>\n",
       "      <td>2015</td>\n",
       "      <td>1</td>\n",
       "      <td>6</td>\n",
       "      <td>Weekday</td>\n",
       "      <td>1400.0</td>\n",
       "      <td>1-Car</td>\n",
       "      <td>Incapacitating</td>\n",
       "      <td>ENGINE FAILURE OR DEFECTIVE</td>\n",
       "      <td>NORTH LOUDEN RD</td>\n",
       "      <td>39.199272</td>\n",
       "      <td>-86.637024</td>\n",
       "    </tr>\n",
       "    <tr>\n",
       "      <th>14</th>\n",
       "      <td>2015</td>\n",
       "      <td>1</td>\n",
       "      <td>1</td>\n",
       "      <td>Weekend</td>\n",
       "      <td>1300.0</td>\n",
       "      <td>3+ Cars</td>\n",
       "      <td>Incapacitating</td>\n",
       "      <td>DISREGARD SIGNAL/REG SIGN</td>\n",
       "      <td>ROGERS &amp; W PATTERSON</td>\n",
       "      <td>39.153790</td>\n",
       "      <td>-86.538750</td>\n",
       "    </tr>\n",
       "    <tr>\n",
       "      <th>38</th>\n",
       "      <td>2015</td>\n",
       "      <td>1</td>\n",
       "      <td>7</td>\n",
       "      <td>Weekend</td>\n",
       "      <td>1800.0</td>\n",
       "      <td>Pedestrian</td>\n",
       "      <td>Incapacitating</td>\n",
       "      <td>PEDESTRIAN ACTION</td>\n",
       "      <td>COOLIDGE &amp; ROCKPORT</td>\n",
       "      <td>39.141926</td>\n",
       "      <td>-86.543142</td>\n",
       "    </tr>\n",
       "    <tr>\n",
       "      <th>44</th>\n",
       "      <td>2015</td>\n",
       "      <td>1</td>\n",
       "      <td>4</td>\n",
       "      <td>Weekday</td>\n",
       "      <td>400.0</td>\n",
       "      <td>1-Car</td>\n",
       "      <td>Incapacitating</td>\n",
       "      <td>RAN OFF ROAD RIGHT</td>\n",
       "      <td>BREEDEN &amp; SR45W</td>\n",
       "      <td>39.088157</td>\n",
       "      <td>-86.669012</td>\n",
       "    </tr>\n",
       "    <tr>\n",
       "      <th>60</th>\n",
       "      <td>2015</td>\n",
       "      <td>1</td>\n",
       "      <td>5</td>\n",
       "      <td>Weekday</td>\n",
       "      <td>1800.0</td>\n",
       "      <td>Cyclist</td>\n",
       "      <td>Incapacitating</td>\n",
       "      <td>OTHER (DRIVER) - EXPLAIN IN NARRATIVE</td>\n",
       "      <td>ATWATER &amp; HIGH</td>\n",
       "      <td>39.163115</td>\n",
       "      <td>-86.508462</td>\n",
       "    </tr>\n",
       "    <tr>\n",
       "      <th>...</th>\n",
       "      <td>...</td>\n",
       "      <td>...</td>\n",
       "      <td>...</td>\n",
       "      <td>...</td>\n",
       "      <td>...</td>\n",
       "      <td>...</td>\n",
       "      <td>...</td>\n",
       "      <td>...</td>\n",
       "      <td>...</td>\n",
       "      <td>...</td>\n",
       "      <td>...</td>\n",
       "    </tr>\n",
       "    <tr>\n",
       "      <th>52995</th>\n",
       "      <td>2003</td>\n",
       "      <td>6</td>\n",
       "      <td>1</td>\n",
       "      <td>Weekend</td>\n",
       "      <td>1500.0</td>\n",
       "      <td>2-Car</td>\n",
       "      <td>Incapacitating</td>\n",
       "      <td>FAILURE TO YIELD RIGHT OF WAY</td>\n",
       "      <td>HEATHERWOOD &amp; LEONARD SPRINGS RD</td>\n",
       "      <td>39.126976</td>\n",
       "      <td>-86.582464</td>\n",
       "    </tr>\n",
       "    <tr>\n",
       "      <th>52997</th>\n",
       "      <td>2003</td>\n",
       "      <td>4</td>\n",
       "      <td>4</td>\n",
       "      <td>Weekday</td>\n",
       "      <td>1400.0</td>\n",
       "      <td>2-Car</td>\n",
       "      <td>Incapacitating</td>\n",
       "      <td>FOLLOWING TOO CLOSELY</td>\n",
       "      <td>PINEWOOD &amp; WALNUT ST</td>\n",
       "      <td>39.126717</td>\n",
       "      <td>-86.531399</td>\n",
       "    </tr>\n",
       "    <tr>\n",
       "      <th>53039</th>\n",
       "      <td>2003</td>\n",
       "      <td>8</td>\n",
       "      <td>2</td>\n",
       "      <td>Weekday</td>\n",
       "      <td>1400.0</td>\n",
       "      <td>2-Car</td>\n",
       "      <td>Incapacitating</td>\n",
       "      <td>FAILURE TO YIELD RIGHT OF WAY</td>\n",
       "      <td>FULLERTON &amp; SR37</td>\n",
       "      <td>39.122352</td>\n",
       "      <td>-86.571200</td>\n",
       "    </tr>\n",
       "    <tr>\n",
       "      <th>53075</th>\n",
       "      <td>2003</td>\n",
       "      <td>1</td>\n",
       "      <td>5</td>\n",
       "      <td>Weekday</td>\n",
       "      <td>1700.0</td>\n",
       "      <td>2-Car</td>\n",
       "      <td>Incapacitating</td>\n",
       "      <td>FAILURE TO YIELD RIGHT OF WAY</td>\n",
       "      <td>DUNLAP &amp; SR45</td>\n",
       "      <td>39.119344</td>\n",
       "      <td>-86.618896</td>\n",
       "    </tr>\n",
       "    <tr>\n",
       "      <th>53425</th>\n",
       "      <td>2003</td>\n",
       "      <td>10</td>\n",
       "      <td>7</td>\n",
       "      <td>Weekend</td>\n",
       "      <td>1400.0</td>\n",
       "      <td>2-Car</td>\n",
       "      <td>Incapacitating</td>\n",
       "      <td>LEFT OF CENTER</td>\n",
       "      <td>HEDRICK &amp; SR46</td>\n",
       "      <td>0.000000</td>\n",
       "      <td>0.000000</td>\n",
       "    </tr>\n",
       "  </tbody>\n",
       "</table>\n",
       "<p>1082 rows × 11 columns</p>\n",
       "</div>"
      ],
      "text/plain": [
       "       Year  Month  Day Weekend?    Hour Collision Type     Injury Type  \\\n",
       "7      2015      1    6  Weekday  1400.0          1-Car  Incapacitating   \n",
       "14     2015      1    1  Weekend  1300.0        3+ Cars  Incapacitating   \n",
       "38     2015      1    7  Weekend  1800.0     Pedestrian  Incapacitating   \n",
       "44     2015      1    4  Weekday   400.0          1-Car  Incapacitating   \n",
       "60     2015      1    5  Weekday  1800.0        Cyclist  Incapacitating   \n",
       "...     ...    ...  ...      ...     ...            ...             ...   \n",
       "52995  2003      6    1  Weekend  1500.0          2-Car  Incapacitating   \n",
       "52997  2003      4    4  Weekday  1400.0          2-Car  Incapacitating   \n",
       "53039  2003      8    2  Weekday  1400.0          2-Car  Incapacitating   \n",
       "53075  2003      1    5  Weekday  1700.0          2-Car  Incapacitating   \n",
       "53425  2003     10    7  Weekend  1400.0          2-Car  Incapacitating   \n",
       "\n",
       "                              Primary Factor  \\\n",
       "7                ENGINE FAILURE OR DEFECTIVE   \n",
       "14                 DISREGARD SIGNAL/REG SIGN   \n",
       "38                         PEDESTRIAN ACTION   \n",
       "44                        RAN OFF ROAD RIGHT   \n",
       "60     OTHER (DRIVER) - EXPLAIN IN NARRATIVE   \n",
       "...                                      ...   \n",
       "52995          FAILURE TO YIELD RIGHT OF WAY   \n",
       "52997                  FOLLOWING TOO CLOSELY   \n",
       "53039          FAILURE TO YIELD RIGHT OF WAY   \n",
       "53075          FAILURE TO YIELD RIGHT OF WAY   \n",
       "53425                         LEFT OF CENTER   \n",
       "\n",
       "                      Reported_Location   Latitude  Longitude  \n",
       "7                       NORTH LOUDEN RD  39.199272 -86.637024  \n",
       "14                 ROGERS & W PATTERSON  39.153790 -86.538750  \n",
       "38                  COOLIDGE & ROCKPORT  39.141926 -86.543142  \n",
       "44                      BREEDEN & SR45W  39.088157 -86.669012  \n",
       "60                       ATWATER & HIGH  39.163115 -86.508462  \n",
       "...                                 ...        ...        ...  \n",
       "52995  HEATHERWOOD & LEONARD SPRINGS RD  39.126976 -86.582464  \n",
       "52997              PINEWOOD & WALNUT ST  39.126717 -86.531399  \n",
       "53039                  FULLERTON & SR37  39.122352 -86.571200  \n",
       "53075                     DUNLAP & SR45  39.119344 -86.618896  \n",
       "53425                    HEDRICK & SR46   0.000000   0.000000  \n",
       "\n",
       "[1082 rows x 11 columns]"
      ]
     },
     "execution_count": 43,
     "metadata": {},
     "output_type": "execute_result"
    }
   ],
   "source": [
    "incap"
   ]
  },
  {
   "cell_type": "code",
   "execution_count": 44,
   "id": "1aee137e",
   "metadata": {},
   "outputs": [
    {
     "data": {
      "text/plain": [
       "Collision Type\n",
       "2-Car               445\n",
       "1-Car               204\n",
       "Moped/Motorcycle    154\n",
       "3+ Cars             116\n",
       "Pedestrian          104\n",
       "Cyclist              50\n",
       "Bus                   9\n",
       "Name: count, dtype: int64"
      ]
     },
     "execution_count": 44,
     "metadata": {},
     "output_type": "execute_result"
    }
   ],
   "source": [
    "incap[\"Collision Type\"].value_counts()"
   ]
  },
  {
   "cell_type": "code",
   "execution_count": 45,
   "id": "ea396f97",
   "metadata": {},
   "outputs": [
    {
     "data": {
      "text/plain": [
       "Primary Factor\n",
       "FAILURE TO YIELD RIGHT OF WAY               163\n",
       "FOLLOWING TOO CLOSELY                        73\n",
       "DISREGARD SIGNAL/REG SIGN                    47\n",
       "LEFT OF CENTER                               42\n",
       "OTHER (DRIVER) - EXPLAIN IN NARRATIVE        20\n",
       "UNSAFE SPEED                                 15\n",
       "IMPROPER TURNING                             13\n",
       "DRIVER ILLNESS                                9\n",
       "SPEED TOO FAST FOR WEATHER CONDITIONS         9\n",
       "UNSAFE LANE MOVEMENT                          8\n",
       "DRIVER DISTRACTED - EXPLAIN IN NARRATIVE      8\n",
       "IMPROPER PASSING                              5\n",
       "ROADWAY SURFACE CONDITION                     5\n",
       "DRIVER ASLEEP OR FATIGUED                     5\n",
       "ALCOHOLIC BEVERAGES                           4\n",
       "OVERCORRECTING/OVERSTEERING                   2\n",
       "CELL PHONE USAGE                              2\n",
       "BRAKE FAILURE OR DEFECTIVE                    2\n",
       "UNSAFE BACKING                                2\n",
       "WRONG WAY ON ONE WAY                          2\n",
       "RAN OFF ROAD RIGHT                            2\n",
       "IMPROPER LANE USAGE                           1\n",
       "ACCELERATOR FAILURE OR DEFECTIVE              1\n",
       "ANIMAL/OBJECT IN ROADWAY                      1\n",
       "PASSENGER DISTRACTION                         1\n",
       "OTHER (ENVIRONMENTAL) - EXPLAIN IN NARR       1\n",
       "OTHER (VEHICLE) - EXPLAIN IN NARRATIVE        1\n",
       "PRESCRIPTION DRUGS                            1\n",
       "Name: count, dtype: int64"
      ]
     },
     "execution_count": 45,
     "metadata": {},
     "output_type": "execute_result"
    }
   ],
   "source": [
    "incap[incap[\"Collision Type\"]==\"2-Car\"][\"Primary Factor\"].value_counts()"
   ]
  },
  {
   "cell_type": "markdown",
   "id": "6320f078",
   "metadata": {},
   "source": [
    "- Increased accident risk: Not yielding right of way significantly increases the chances of colliding with another vehicle, especially in busy intersections or merging areas.\n",
    "- Severity of crashes: Accidents involving failures to yield can be severe, particularly when speed and impact forces are significant.\n",
    "- Traffic violation: Ignoring the right of way is a traffic violation and can result in fines, points on your license, or even court appearances if the accident was major."
   ]
  },
  {
   "cell_type": "code",
   "execution_count": 46,
   "id": "1cae1962",
   "metadata": {},
   "outputs": [
    {
     "data": {
      "text/plain": [
       "Primary Factor\n",
       "FAILURE TO YIELD RIGHT OF WAY               275\n",
       "RAN OFF ROAD RIGHT                          129\n",
       "FOLLOWING TOO CLOSELY                       127\n",
       "OTHER (DRIVER) - EXPLAIN IN NARRATIVE        75\n",
       "DISREGARD SIGNAL/REG SIGN                    66\n",
       "LEFT OF CENTER                               61\n",
       "PEDESTRIAN ACTION                            46\n",
       "UNSAFE SPEED                                 45\n",
       "SPEED TOO FAST FOR WEATHER CONDITIONS        32\n",
       "DRIVER DISTRACTED - EXPLAIN IN NARRATIVE     26\n",
       "ALCOHOLIC BEVERAGES                          26\n",
       "DRIVER ILLNESS                               25\n",
       "IMPROPER TURNING                             24\n",
       "OVERCORRECTING/OVERSTEERING                  17\n",
       "ANIMAL/OBJECT IN ROADWAY                     17\n",
       "ROADWAY SURFACE CONDITION                    16\n",
       "UNSAFE LANE MOVEMENT                         11\n",
       "IMPROPER PASSING                             10\n",
       "UNSAFE BACKING                                8\n",
       "DRIVER ASLEEP OR FATIGUED                     8\n",
       "OTHER (VEHICLE) - EXPLAIN IN NARRATIVE        8\n",
       "BRAKE FAILURE OR DEFECTIVE                    7\n",
       "IMPROPER LANE USAGE                           4\n",
       "WRONG WAY ON ONE WAY                          3\n",
       "OTHER (ENVIRONMENTAL) - EXPLAIN IN NARR       3\n",
       "ACCELERATOR FAILURE OR DEFECTIVE              3\n",
       "PRESCRIPTION DRUGS                            2\n",
       "OBSTRUCTION NOT MARKED                        2\n",
       "CELL PHONE USAGE                              2\n",
       "NONE (DRIVER)                                 1\n",
       "ENGINE FAILURE OR DEFECTIVE                   1\n",
       "PASSENGER DISTRACTION                         1\n",
       "NONE (ENVIRONMENTAL)                          1\n",
       "Name: count, dtype: int64"
      ]
     },
     "execution_count": 46,
     "metadata": {},
     "output_type": "execute_result"
    }
   ],
   "source": [
    "incap[\"Primary Factor\"].value_counts()"
   ]
  },
  {
   "cell_type": "code",
   "execution_count": 47,
   "id": "8427ba56",
   "metadata": {},
   "outputs": [
    {
     "data": {
      "text/plain": [
       "Primary Factor\n",
       "RAN OFF ROAD RIGHT                          106\n",
       "SPEED TOO FAST FOR WEATHER CONDITIONS        15\n",
       "DRIVER ILLNESS                               14\n",
       "OTHER (DRIVER) - EXPLAIN IN NARRATIVE        12\n",
       "UNSAFE SPEED                                 12\n",
       "OVERCORRECTING/OVERSTEERING                   9\n",
       "ALCOHOLIC BEVERAGES                           6\n",
       "ANIMAL/OBJECT IN ROADWAY                      6\n",
       "OTHER (VEHICLE) - EXPLAIN IN NARRATIVE        3\n",
       "DRIVER ASLEEP OR FATIGUED                     3\n",
       "DRIVER DISTRACTED - EXPLAIN IN NARRATIVE      3\n",
       "ROADWAY SURFACE CONDITION                     2\n",
       "OBSTRUCTION NOT MARKED                        2\n",
       "IMPROPER LANE USAGE                           2\n",
       "IMPROPER TURNING                              2\n",
       "PRESCRIPTION DRUGS                            1\n",
       "ENGINE FAILURE OR DEFECTIVE                   1\n",
       "OTHER (ENVIRONMENTAL) - EXPLAIN IN NARR       1\n",
       "LEFT OF CENTER                                1\n",
       "BRAKE FAILURE OR DEFECTIVE                    1\n",
       "DISREGARD SIGNAL/REG SIGN                     1\n",
       "FAILURE TO YIELD RIGHT OF WAY                 1\n",
       "Name: count, dtype: int64"
      ]
     },
     "execution_count": 47,
     "metadata": {},
     "output_type": "execute_result"
    }
   ],
   "source": [
    "incap[incap[\"Collision Type\"]==\"1-Car\"][\"Primary Factor\"].value_counts()"
   ]
  },
  {
   "cell_type": "code",
   "execution_count": 48,
   "id": "1f3a3cd9",
   "metadata": {},
   "outputs": [
    {
     "name": "stdout",
     "output_type": "stream",
     "text": [
      "Collecting geopandas\n",
      "  Obtaining dependency information for geopandas from https://files.pythonhosted.org/packages/e3/23/00912e3236306ec52a06f95a08918cbb54f900419951726a20a8783a8507/geopandas-0.14.2-py3-none-any.whl.metadata\n",
      "  Downloading geopandas-0.14.2-py3-none-any.whl.metadata (1.5 kB)\n",
      "Requirement already satisfied: matplotlib in c:\\users\\sachu\\anaconda3\\lib\\site-packages (3.7.2)\n",
      "Requirement already satisfied: plotly in c:\\users\\sachu\\anaconda3\\lib\\site-packages (5.9.0)\n",
      "Collecting folium\n",
      "  Obtaining dependency information for folium from https://files.pythonhosted.org/packages/18/09/8569904c8ce5679cc02826d98de633c07abcd2443a23181e5f71ff9dacbc/folium-0.15.1-py2.py3-none-any.whl.metadata\n",
      "  Downloading folium-0.15.1-py2.py3-none-any.whl.metadata (3.4 kB)\n",
      "Collecting fiona>=1.8.21 (from geopandas)\n",
      "  Obtaining dependency information for fiona>=1.8.21 from https://files.pythonhosted.org/packages/7f/27/b24c1610c7ae5716709321f04d38d7b8b71ed531f80df4f697b9ad99cfc3/fiona-1.9.5-cp311-cp311-win_amd64.whl.metadata\n",
      "  Downloading fiona-1.9.5-cp311-cp311-win_amd64.whl.metadata (51 kB)\n",
      "     ---------------------------------------- 0.0/51.1 kB ? eta -:--:--\n",
      "     ---------------------------------------- 0.0/51.1 kB ? eta -:--:--\n",
      "     -------- ------------------------------- 10.2/51.1 kB ? eta -:--:--\n",
      "     --------------- ---------------------- 20.5/51.1 kB 162.5 kB/s eta 0:00:01\n",
      "     ------------------------------ ------- 41.0/51.1 kB 245.8 kB/s eta 0:00:01\n",
      "     ------------------------------ ------- 41.0/51.1 kB 245.8 kB/s eta 0:00:01\n",
      "     -------------------------------------- 51.1/51.1 kB 201.3 kB/s eta 0:00:00\n",
      "Requirement already satisfied: packaging in c:\\users\\sachu\\anaconda3\\lib\\site-packages (from geopandas) (23.1)\n",
      "Requirement already satisfied: pandas>=1.4.0 in c:\\users\\sachu\\anaconda3\\lib\\site-packages (from geopandas) (2.0.3)\n",
      "Collecting pyproj>=3.3.0 (from geopandas)\n",
      "  Obtaining dependency information for pyproj>=3.3.0 from https://files.pythonhosted.org/packages/79/95/eb68113c5b5737c342bde1bab92705dabe69c16299c5a122616e50f1fbd6/pyproj-3.6.1-cp311-cp311-win_amd64.whl.metadata\n",
      "  Downloading pyproj-3.6.1-cp311-cp311-win_amd64.whl.metadata (31 kB)\n",
      "Collecting shapely>=1.8.0 (from geopandas)\n",
      "  Obtaining dependency information for shapely>=1.8.0 from https://files.pythonhosted.org/packages/9e/39/029c441d8af32ab423b229c4525ce5ce6707318155b59634811a4c56f5c4/shapely-2.0.2-cp311-cp311-win_amd64.whl.metadata\n",
      "  Downloading shapely-2.0.2-cp311-cp311-win_amd64.whl.metadata (7.2 kB)\n",
      "Requirement already satisfied: contourpy>=1.0.1 in c:\\users\\sachu\\anaconda3\\lib\\site-packages (from matplotlib) (1.0.5)\n",
      "Requirement already satisfied: cycler>=0.10 in c:\\users\\sachu\\anaconda3\\lib\\site-packages (from matplotlib) (0.11.0)\n",
      "Requirement already satisfied: fonttools>=4.22.0 in c:\\users\\sachu\\anaconda3\\lib\\site-packages (from matplotlib) (4.25.0)\n",
      "Requirement already satisfied: kiwisolver>=1.0.1 in c:\\users\\sachu\\anaconda3\\lib\\site-packages (from matplotlib) (1.4.4)\n",
      "Requirement already satisfied: numpy>=1.20 in c:\\users\\sachu\\anaconda3\\lib\\site-packages (from matplotlib) (1.24.3)\n",
      "Requirement already satisfied: pillow>=6.2.0 in c:\\users\\sachu\\anaconda3\\lib\\site-packages (from matplotlib) (9.4.0)\n",
      "Requirement already satisfied: pyparsing<3.1,>=2.3.1 in c:\\users\\sachu\\anaconda3\\lib\\site-packages (from matplotlib) (3.0.9)\n",
      "Requirement already satisfied: python-dateutil>=2.7 in c:\\users\\sachu\\anaconda3\\lib\\site-packages (from matplotlib) (2.8.2)\n",
      "Requirement already satisfied: tenacity>=6.2.0 in c:\\users\\sachu\\anaconda3\\lib\\site-packages (from plotly) (8.2.2)\n",
      "Collecting branca>=0.6.0 (from folium)\n",
      "  Obtaining dependency information for branca>=0.6.0 from https://files.pythonhosted.org/packages/2f/e7/603b136221de923055716d23e3047da71f92e0d8ba2c4517ce49a54fe768/branca-0.7.0-py3-none-any.whl.metadata\n",
      "  Downloading branca-0.7.0-py3-none-any.whl.metadata (1.5 kB)\n",
      "Requirement already satisfied: jinja2>=2.9 in c:\\users\\sachu\\anaconda3\\lib\\site-packages (from folium) (3.1.2)\n",
      "Requirement already satisfied: requests in c:\\users\\sachu\\anaconda3\\lib\\site-packages (from folium) (2.31.0)\n",
      "Requirement already satisfied: xyzservices in c:\\users\\sachu\\anaconda3\\lib\\site-packages (from folium) (2022.9.0)\n",
      "Requirement already satisfied: attrs>=19.2.0 in c:\\users\\sachu\\anaconda3\\lib\\site-packages (from fiona>=1.8.21->geopandas) (22.1.0)\n",
      "Requirement already satisfied: certifi in c:\\users\\sachu\\anaconda3\\lib\\site-packages (from fiona>=1.8.21->geopandas) (2023.7.22)\n",
      "Requirement already satisfied: click~=8.0 in c:\\users\\sachu\\anaconda3\\lib\\site-packages (from fiona>=1.8.21->geopandas) (8.0.4)\n",
      "Collecting click-plugins>=1.0 (from fiona>=1.8.21->geopandas)\n",
      "  Downloading click_plugins-1.1.1-py2.py3-none-any.whl (7.5 kB)\n",
      "Collecting cligj>=0.5 (from fiona>=1.8.21->geopandas)\n",
      "  Downloading cligj-0.7.2-py3-none-any.whl (7.1 kB)\n",
      "Requirement already satisfied: six in c:\\users\\sachu\\anaconda3\\lib\\site-packages (from fiona>=1.8.21->geopandas) (1.16.0)\n",
      "Requirement already satisfied: setuptools in c:\\users\\sachu\\anaconda3\\lib\\site-packages (from fiona>=1.8.21->geopandas) (68.0.0)\n",
      "Requirement already satisfied: MarkupSafe>=2.0 in c:\\users\\sachu\\anaconda3\\lib\\site-packages (from jinja2>=2.9->folium) (2.1.1)\n",
      "Requirement already satisfied: pytz>=2020.1 in c:\\users\\sachu\\anaconda3\\lib\\site-packages (from pandas>=1.4.0->geopandas) (2023.3.post1)\n",
      "Requirement already satisfied: tzdata>=2022.1 in c:\\users\\sachu\\anaconda3\\lib\\site-packages (from pandas>=1.4.0->geopandas) (2023.3)\n",
      "Requirement already satisfied: charset-normalizer<4,>=2 in c:\\users\\sachu\\anaconda3\\lib\\site-packages (from requests->folium) (2.0.4)\n",
      "Requirement already satisfied: idna<4,>=2.5 in c:\\users\\sachu\\anaconda3\\lib\\site-packages (from requests->folium) (3.4)\n",
      "Requirement already satisfied: urllib3<3,>=1.21.1 in c:\\users\\sachu\\anaconda3\\lib\\site-packages (from requests->folium) (1.26.16)\n",
      "Requirement already satisfied: colorama in c:\\users\\sachu\\anaconda3\\lib\\site-packages (from click~=8.0->fiona>=1.8.21->geopandas) (0.4.6)\n",
      "Downloading geopandas-0.14.2-py3-none-any.whl (1.1 MB)\n",
      "   ---------------------------------------- 0.0/1.1 MB ? eta -:--:--\n",
      "   -------- ------------------------------- 0.2/1.1 MB 7.3 MB/s eta 0:00:01\n",
      "   --------------------- ------------------ 0.6/1.1 MB 7.5 MB/s eta 0:00:01\n",
      "   ---------------------------------------  1.1/1.1 MB 10.0 MB/s eta 0:00:01\n",
      "   ---------------------------------------- 1.1/1.1 MB 7.0 MB/s eta 0:00:00\n",
      "Downloading folium-0.15.1-py2.py3-none-any.whl (97 kB)\n",
      "   ---------------------------------------- 0.0/97.0 kB ? eta -:--:--\n",
      "   ---------------------------------------- 97.0/97.0 kB 5.4 MB/s eta 0:00:00\n",
      "Downloading branca-0.7.0-py3-none-any.whl (25 kB)\n",
      "Downloading fiona-1.9.5-cp311-cp311-win_amd64.whl (22.9 MB)\n",
      "   ---------------------------------------- 0.0/22.9 MB ? eta -:--:--\n",
      "   - -------------------------------------- 0.8/22.9 MB 26.1 MB/s eta 0:00:01\n",
      "   --- ------------------------------------ 2.2/22.9 MB 28.4 MB/s eta 0:00:01\n",
      "   ----- ---------------------------------- 3.2/22.9 MB 25.1 MB/s eta 0:00:01\n",
      "   ------- -------------------------------- 4.3/22.9 MB 27.2 MB/s eta 0:00:01\n",
      "   --------- ------------------------------ 5.3/22.9 MB 26.1 MB/s eta 0:00:01\n",
      "   ---------- ----------------------------- 5.9/22.9 MB 25.1 MB/s eta 0:00:01\n",
      "   ------------ --------------------------- 7.3/22.9 MB 25.9 MB/s eta 0:00:01\n",
      "   -------------- ------------------------- 8.1/22.9 MB 24.6 MB/s eta 0:00:01\n",
      "   ---------------- ----------------------- 9.4/22.9 MB 25.0 MB/s eta 0:00:01\n",
      "   ------------------ --------------------- 10.8/22.9 MB 27.3 MB/s eta 0:00:01\n",
      "   --------------------- ------------------ 12.3/22.9 MB 26.2 MB/s eta 0:00:01\n",
      "   ------------------------ --------------- 14.0/22.9 MB 28.4 MB/s eta 0:00:01\n",
      "   -------------------------- ------------- 15.0/22.9 MB 27.3 MB/s eta 0:00:01\n",
      "   --------------------------- ------------ 16.0/22.9 MB 28.5 MB/s eta 0:00:01\n",
      "   ----------------------------- ---------- 17.1/22.9 MB 29.7 MB/s eta 0:00:01\n",
      "   -------------------------------- ------- 18.4/22.9 MB 31.1 MB/s eta 0:00:01\n",
      "   -------------------------------- ------- 18.9/22.9 MB 29.7 MB/s eta 0:00:01\n",
      "   -------------------------------- ------- 18.9/22.9 MB 29.7 MB/s eta 0:00:01\n",
      "   -------------------------------- ------- 18.9/22.9 MB 29.7 MB/s eta 0:00:01\n",
      "   --------------------------------- ------ 19.0/22.9 MB 21.8 MB/s eta 0:00:01\n",
      "   ---------------------------------- ----- 19.7/22.9 MB 19.3 MB/s eta 0:00:01\n",
      "   -------------------------------------- - 22.0/22.9 MB 19.9 MB/s eta 0:00:01\n",
      "   ---------------------------------------  22.9/22.9 MB 19.2 MB/s eta 0:00:01\n",
      "   ---------------------------------------  22.9/22.9 MB 19.2 MB/s eta 0:00:01\n",
      "   ---------------------------------------  22.9/22.9 MB 19.2 MB/s eta 0:00:01\n",
      "   ---------------------------------------- 22.9/22.9 MB 14.5 MB/s eta 0:00:00\n",
      "Downloading pyproj-3.6.1-cp311-cp311-win_amd64.whl (6.1 MB)\n",
      "   ---------------------------------------- 0.0/6.1 MB ? eta -:--:--\n",
      "   -------- ------------------------------- 1.4/6.1 MB 28.8 MB/s eta 0:00:01\n",
      "   ------------- -------------------------- 2.1/6.1 MB 33.0 MB/s eta 0:00:01\n",
      "   ------------- -------------------------- 2.1/6.1 MB 33.0 MB/s eta 0:00:01\n",
      "   ------------- -------------------------- 2.1/6.1 MB 33.0 MB/s eta 0:00:01\n",
      "   ------------- -------------------------- 2.1/6.1 MB 33.0 MB/s eta 0:00:01\n",
      "   ------------- -------------------------- 2.1/6.1 MB 33.0 MB/s eta 0:00:01\n",
      "   ------------- -------------------------- 2.1/6.1 MB 33.0 MB/s eta 0:00:01\n",
      "   ------------- -------------------------- 2.1/6.1 MB 33.0 MB/s eta 0:00:01\n",
      "   ------------- -------------------------- 2.1/6.1 MB 33.0 MB/s eta 0:00:01\n",
      "   -------------- ------------------------- 2.2/6.1 MB 4.9 MB/s eta 0:00:01\n",
      "   -------------- ------------------------- 2.3/6.1 MB 4.7 MB/s eta 0:00:01\n",
      "   ---------------- ----------------------- 2.4/6.1 MB 4.6 MB/s eta 0:00:01\n",
      "   ---------------- ----------------------- 2.5/6.1 MB 4.5 MB/s eta 0:00:01\n",
      "   ------------------- -------------------- 2.9/6.1 MB 4.7 MB/s eta 0:00:01\n",
      "   --------------------- ------------------ 3.2/6.1 MB 4.8 MB/s eta 0:00:01\n",
      "   ---------------------- ----------------- 3.5/6.1 MB 4.8 MB/s eta 0:00:01\n",
      "   ------------------------ --------------- 3.7/6.1 MB 4.8 MB/s eta 0:00:01\n",
      "   -------------------------- ------------- 4.0/6.1 MB 4.9 MB/s eta 0:00:01\n",
      "   ---------------------------------- ----- 5.2/6.1 MB 6.1 MB/s eta 0:00:01\n",
      "   ---------------------------------------  6.1/6.1 MB 6.8 MB/s eta 0:00:01\n",
      "   ---------------------------------------  6.1/6.1 MB 6.8 MB/s eta 0:00:01\n",
      "   ---------------------------------------- 6.1/6.1 MB 6.2 MB/s eta 0:00:00\n",
      "Downloading shapely-2.0.2-cp311-cp311-win_amd64.whl (1.4 MB)\n",
      "   ---------------------------------------- 0.0/1.4 MB ? eta -:--:--\n",
      "   --------------------------------- ------ 1.2/1.4 MB 25.1 MB/s eta 0:00:01\n",
      "   ---------------------------------------- 1.4/1.4 MB 18.3 MB/s eta 0:00:00\n",
      "Installing collected packages: shapely, pyproj, cligj, click-plugins, branca, folium, fiona, geopandas\n",
      "Successfully installed branca-0.7.0 click-plugins-1.1.1 cligj-0.7.2 fiona-1.9.5 folium-0.15.1 geopandas-0.14.2 pyproj-3.6.1 shapely-2.0.2\n"
     ]
    }
   ],
   "source": [
    "! pip install geopandas matplotlib plotly folium"
   ]
  },
  {
   "cell_type": "code",
   "execution_count": 49,
   "id": "78b8ad15",
   "metadata": {},
   "outputs": [],
   "source": [
    "import geopandas as gpd"
   ]
  },
  {
   "cell_type": "code",
   "execution_count": 50,
   "id": "6b498fbd",
   "metadata": {},
   "outputs": [],
   "source": [
    "geo_df = gpd.GeoDataFrame(\n",
    "    incap, geometry=gpd.points_from_xy(incap.Longitude, incap.Latitude)\n",
    ")"
   ]
  },
  {
   "cell_type": "code",
   "execution_count": 51,
   "id": "4aa092f5",
   "metadata": {},
   "outputs": [],
   "source": [
    "world = gpd.read_file(gpd.datasets.get_path(\"naturalearth_lowres\"))"
   ]
  },
  {
   "cell_type": "code",
   "execution_count": 52,
   "id": "a5b505b0",
   "metadata": {},
   "outputs": [
    {
     "data": {
      "image/png": "[encoded data removed]",
      "text/plain": [
       "<Figure size 1000x600 with 1 Axes>"
      ]
     },
     "metadata": {},
     "output_type": "display_data"
    }
   ],
   "source": [
    "fig, ax = plt.subplots(figsize=(10, 6))\n",
    "world.plot(ax=ax, color=\"lightgray\")\n",
    "geo_df.plot(ax=ax, markersize=5, color=\"red\", edgecolor=\"black\")\n",
    "plt.title(\"Car Crash Locations\")\n",
    "plt.show()"
   ]
  },
  {
   "cell_type": "code",
   "execution_count": null,
   "id": "b78218d3",
   "metadata": {},
   "outputs": [],
   "source": []
  },
  {
   "cell_type": "code",
   "execution_count": null,
   "id": "e407e8e4",
   "metadata": {},
   "outputs": [],
   "source": []
  },
  {
   "cell_type": "code",
   "execution_count": null,
   "id": "97f6fb5f",
   "metadata": {},
   "outputs": [],
   "source": []
  },
  {
   "cell_type": "code",
   "execution_count": 56,
   "id": "5af25b87",
   "metadata": {},
   "outputs": [],
   "source": [
    "from folium.plugins import HeatMap"
   ]
  },
  {
   "cell_type": "code",
   "execution_count": 57,
   "id": "a7e6f41b",
   "metadata": {},
   "outputs": [
    {
     "name": "stdout",
     "output_type": "stream",
     "text": [
      "Collecting geocoder\n",
      "  Downloading geocoder-1.38.1-py2.py3-none-any.whl (98 kB)\n",
      "     ---------------------------------------- 0.0/98.6 kB ? eta -:--:--\n",
      "     ------------------------------------- -- 92.2/98.6 kB 5.1 MB/s eta 0:00:01\n",
      "     ---------------------------------------- 98.6/98.6 kB 1.1 MB/s eta 0:00:00\n",
      "Requirement already satisfied: click in c:\\users\\sachu\\anaconda3\\lib\\site-packages (from geocoder) (8.0.4)\n",
      "Requirement already satisfied: future in c:\\users\\sachu\\anaconda3\\lib\\site-packages (from geocoder) (0.18.3)\n",
      "Collecting ratelim (from geocoder)\n",
      "  Downloading ratelim-0.1.6-py2.py3-none-any.whl (4.0 kB)\n",
      "Requirement already satisfied: requests in c:\\users\\sachu\\anaconda3\\lib\\site-packages (from geocoder) (2.31.0)\n",
      "Requirement already satisfied: six in c:\\users\\sachu\\anaconda3\\lib\\site-packages (from geocoder) (1.16.0)\n",
      "Requirement already satisfied: colorama in c:\\users\\sachu\\anaconda3\\lib\\site-packages (from click->geocoder) (0.4.6)\n",
      "Requirement already satisfied: decorator in c:\\users\\sachu\\anaconda3\\lib\\site-packages (from ratelim->geocoder) (5.1.1)\n",
      "Requirement already satisfied: charset-normalizer<4,>=2 in c:\\users\\sachu\\anaconda3\\lib\\site-packages (from requests->geocoder) (2.0.4)\n",
      "Requirement already satisfied: idna<4,>=2.5 in c:\\users\\sachu\\anaconda3\\lib\\site-packages (from requests->geocoder) (3.4)\n",
      "Requirement already satisfied: urllib3<3,>=1.21.1 in c:\\users\\sachu\\anaconda3\\lib\\site-packages (from requests->geocoder) (1.26.16)\n",
      "Requirement already satisfied: certifi>=2017.4.17 in c:\\users\\sachu\\anaconda3\\lib\\site-packages (from requests->geocoder) (2023.7.22)\n",
      "Installing collected packages: ratelim, geocoder\n",
      "Successfully installed geocoder-1.38.1 ratelim-0.1.6\n",
      "Collecting geopy\n",
      "  Obtaining dependency information for geopy from https://files.pythonhosted.org/packages/e5/15/cf2a69ade4b194aa524ac75112d5caac37414b20a3a03e6865dfe0bd1539/geopy-2.4.1-py3-none-any.whl.metadata\n",
      "  Downloading geopy-2.4.1-py3-none-any.whl.metadata (6.8 kB)\n",
      "Collecting geographiclib<3,>=1.52 (from geopy)\n",
      "  Downloading geographiclib-2.0-py3-none-any.whl (40 kB)\n",
      "     ---------------------------------------- 0.0/40.3 kB ? eta -:--:--\n",
      "     ---------------------------------------- 0.0/40.3 kB ? eta -:--:--\n",
      "     ---------------------------------------- 0.0/40.3 kB ? eta -:--:--\n",
      "     ---------- ----------------------------- 10.2/40.3 kB ? eta -:--:--\n",
      "     ------------------- ------------------ 20.5/40.3 kB 217.9 kB/s eta 0:00:01\n",
      "     ---------------------------- --------- 30.7/40.3 kB 220.2 kB/s eta 0:00:01\n",
      "     -------------------------------------- 40.3/40.3 kB 160.9 kB/s eta 0:00:00\n",
      "Downloading geopy-2.4.1-py3-none-any.whl (125 kB)\n",
      "   ---------------------------------------- 0.0/125.4 kB ? eta -:--:--\n",
      "   --------- ----------------------------- 30.7/125.4 kB 640.0 kB/s eta 0:00:01\n",
      "   ---------------------------------------- 125.4/125.4 kB 1.8 MB/s eta 0:00:00\n",
      "Installing collected packages: geographiclib, geopy\n",
      "Successfully installed geographiclib-2.0 geopy-2.4.1\n"
     ]
    }
   ],
   "source": [
    "!pip install geocoder\n",
    "!pip install geopy"
   ]
  },
  {
   "cell_type": "code",
   "execution_count": 58,
   "id": "d1b5cbee",
   "metadata": {},
   "outputs": [],
   "source": [
    "from geopy.geocoders import Nominatim"
   ]
  },
  {
   "cell_type": "code",
   "execution_count": 59,
   "id": "e47af425",
   "metadata": {},
   "outputs": [],
   "source": [
    "geolocator=Nominatim(user_agent=\"app\",timeout=None)"
   ]
  },
  {
   "cell_type": "code",
   "execution_count": 60,
   "id": "17fde6d0",
   "metadata": {},
   "outputs": [],
   "source": [
    "from folium.plugins import HeatMap"
   ]
  },
  {
   "cell_type": "code",
   "execution_count": 61,
   "id": "712b9822",
   "metadata": {},
   "outputs": [],
   "source": [
    "fatal1=fatal.copy()"
   ]
  },
  {
   "cell_type": "code",
   "execution_count": 62,
   "id": "8f147e41",
   "metadata": {},
   "outputs": [],
   "source": [
    "fatal1[\"count\"]=\"count\""
   ]
  },
  {
   "cell_type": "code",
   "execution_count": null,
   "id": "5485cb41",
   "metadata": {},
   "outputs": [],
   "source": []
  },
  {
   "cell_type": "code",
   "execution_count": 63,
   "id": "0ee1a4fd",
   "metadata": {},
   "outputs": [
    {
     "data": {
      "text/html": [
       "<div>\n",
       "<style scoped>\n",
       "    .dataframe tbody tr th:only-of-type {\n",
       "        vertical-align: middle;\n",
       "    }\n",
       "\n",
       "    .dataframe tbody tr th {\n",
       "        vertical-align: top;\n",
       "    }\n",
       "\n",
       "    .dataframe thead th {\n",
       "        text-align: right;\n",
       "    }\n",
       "</style>\n",
       "<table border=\"1\" class=\"dataframe\">\n",
       "  <thead>\n",
       "    <tr style=\"text-align: right;\">\n",
       "      <th></th>\n",
       "      <th>Year</th>\n",
       "      <th>Month</th>\n",
       "      <th>Day</th>\n",
       "      <th>Weekend?</th>\n",
       "      <th>Hour</th>\n",
       "      <th>Collision Type</th>\n",
       "      <th>Injury Type</th>\n",
       "      <th>Primary Factor</th>\n",
       "      <th>Reported_Location</th>\n",
       "      <th>Latitude</th>\n",
       "      <th>Longitude</th>\n",
       "      <th>count</th>\n",
       "    </tr>\n",
       "  </thead>\n",
       "  <tbody>\n",
       "    <tr>\n",
       "      <th>530</th>\n",
       "      <td>2015</td>\n",
       "      <td>4</td>\n",
       "      <td>6</td>\n",
       "      <td>Weekday</td>\n",
       "      <td>1600.0</td>\n",
       "      <td>1-Car</td>\n",
       "      <td>Fatal</td>\n",
       "      <td>RAN OFF ROAD RIGHT</td>\n",
       "      <td>DUNCAN &amp; W LEONARD SPRINGS</td>\n",
       "      <td>39.122352</td>\n",
       "      <td>-86.596400</td>\n",
       "      <td>count</td>\n",
       "    </tr>\n",
       "    <tr>\n",
       "      <th>531</th>\n",
       "      <td>2015</td>\n",
       "      <td>4</td>\n",
       "      <td>7</td>\n",
       "      <td>Weekend</td>\n",
       "      <td>1500.0</td>\n",
       "      <td>2-Car</td>\n",
       "      <td>Fatal</td>\n",
       "      <td>RAN OFF ROAD RIGHT</td>\n",
       "      <td>KIRBY &amp; W ST RD 48</td>\n",
       "      <td>39.059185</td>\n",
       "      <td>-86.610820</td>\n",
       "      <td>count</td>\n",
       "    </tr>\n",
       "    <tr>\n",
       "      <th>649</th>\n",
       "      <td>2015</td>\n",
       "      <td>1</td>\n",
       "      <td>4</td>\n",
       "      <td>Weekday</td>\n",
       "      <td>1700.0</td>\n",
       "      <td>2-Car</td>\n",
       "      <td>Fatal</td>\n",
       "      <td>OTHER (DRIVER) - EXPLAIN IN NARRATIVE</td>\n",
       "      <td>SR 45</td>\n",
       "      <td>39.125312</td>\n",
       "      <td>-86.610496</td>\n",
       "      <td>count</td>\n",
       "    </tr>\n",
       "    <tr>\n",
       "      <th>1334</th>\n",
       "      <td>2015</td>\n",
       "      <td>4</td>\n",
       "      <td>1</td>\n",
       "      <td>Weekend</td>\n",
       "      <td>700.0</td>\n",
       "      <td>1-Car</td>\n",
       "      <td>Fatal</td>\n",
       "      <td>RAN OFF ROAD RIGHT</td>\n",
       "      <td>INGRAM &amp; SR37N</td>\n",
       "      <td>39.002892</td>\n",
       "      <td>-86.537282</td>\n",
       "      <td>count</td>\n",
       "    </tr>\n",
       "    <tr>\n",
       "      <th>1873</th>\n",
       "      <td>2015</td>\n",
       "      <td>6</td>\n",
       "      <td>3</td>\n",
       "      <td>Weekday</td>\n",
       "      <td>2200.0</td>\n",
       "      <td>Moped/Motorcycle</td>\n",
       "      <td>Fatal</td>\n",
       "      <td>RAN OFF ROAD RIGHT</td>\n",
       "      <td>SR37S &amp; STATE ROAD 45</td>\n",
       "      <td>39.252134</td>\n",
       "      <td>-86.575043</td>\n",
       "      <td>count</td>\n",
       "    </tr>\n",
       "    <tr>\n",
       "      <th>...</th>\n",
       "      <td>...</td>\n",
       "      <td>...</td>\n",
       "      <td>...</td>\n",
       "      <td>...</td>\n",
       "      <td>...</td>\n",
       "      <td>...</td>\n",
       "      <td>...</td>\n",
       "      <td>...</td>\n",
       "      <td>...</td>\n",
       "      <td>...</td>\n",
       "      <td>...</td>\n",
       "      <td>...</td>\n",
       "    </tr>\n",
       "    <tr>\n",
       "      <th>53043</th>\n",
       "      <td>2003</td>\n",
       "      <td>6</td>\n",
       "      <td>5</td>\n",
       "      <td>Weekday</td>\n",
       "      <td>700.0</td>\n",
       "      <td>2-Car</td>\n",
       "      <td>Fatal</td>\n",
       "      <td>LEFT OF CENTER</td>\n",
       "      <td>FULLERTON PIKE &amp; SR 37</td>\n",
       "      <td>39.122332</td>\n",
       "      <td>-86.569889</td>\n",
       "      <td>count</td>\n",
       "    </tr>\n",
       "    <tr>\n",
       "      <th>53289</th>\n",
       "      <td>2003</td>\n",
       "      <td>4</td>\n",
       "      <td>7</td>\n",
       "      <td>Weekend</td>\n",
       "      <td>0.0</td>\n",
       "      <td>Moped/Motorcycle</td>\n",
       "      <td>Fatal</td>\n",
       "      <td>ALCOHOLIC BEVERAGES</td>\n",
       "      <td>CLEVE BUTCHER &amp; FAIRFAX</td>\n",
       "      <td>39.060039</td>\n",
       "      <td>-86.498433</td>\n",
       "      <td>count</td>\n",
       "    </tr>\n",
       "    <tr>\n",
       "      <th>53665</th>\n",
       "      <td>2003</td>\n",
       "      <td>10</td>\n",
       "      <td>6</td>\n",
       "      <td>Weekday</td>\n",
       "      <td>400.0</td>\n",
       "      <td>1-Car</td>\n",
       "      <td>Fatal</td>\n",
       "      <td>RAN OFF ROAD LEFT</td>\n",
       "      <td>CEDAR BLUFF &amp; SR37</td>\n",
       "      <td>0.000000</td>\n",
       "      <td>0.000000</td>\n",
       "      <td>count</td>\n",
       "    </tr>\n",
       "    <tr>\n",
       "      <th>53681</th>\n",
       "      <td>2003</td>\n",
       "      <td>5</td>\n",
       "      <td>4</td>\n",
       "      <td>Weekday</td>\n",
       "      <td>1700.0</td>\n",
       "      <td>2-Car</td>\n",
       "      <td>Fatal</td>\n",
       "      <td>LEFT OF CENTER</td>\n",
       "      <td>BURGOON CHAPEL &amp; SR446</td>\n",
       "      <td>0.000000</td>\n",
       "      <td>0.000000</td>\n",
       "      <td>count</td>\n",
       "    </tr>\n",
       "    <tr>\n",
       "      <th>53685</th>\n",
       "      <td>2003</td>\n",
       "      <td>7</td>\n",
       "      <td>5</td>\n",
       "      <td>Weekday</td>\n",
       "      <td>500.0</td>\n",
       "      <td>1-Car</td>\n",
       "      <td>Fatal</td>\n",
       "      <td>PEDESTRIAN ACTION</td>\n",
       "      <td>RHORER RED &amp; SR37</td>\n",
       "      <td>0.000000</td>\n",
       "      <td>0.000000</td>\n",
       "      <td>count</td>\n",
       "    </tr>\n",
       "  </tbody>\n",
       "</table>\n",
       "<p>115 rows × 12 columns</p>\n",
       "</div>"
      ],
      "text/plain": [
       "       Year  Month  Day Weekend?    Hour    Collision Type Injury Type  \\\n",
       "530    2015      4    6  Weekday  1600.0             1-Car       Fatal   \n",
       "531    2015      4    7  Weekend  1500.0             2-Car       Fatal   \n",
       "649    2015      1    4  Weekday  1700.0             2-Car       Fatal   \n",
       "1334   2015      4    1  Weekend   700.0             1-Car       Fatal   \n",
       "1873   2015      6    3  Weekday  2200.0  Moped/Motorcycle       Fatal   \n",
       "...     ...    ...  ...      ...     ...               ...         ...   \n",
       "53043  2003      6    5  Weekday   700.0             2-Car       Fatal   \n",
       "53289  2003      4    7  Weekend     0.0  Moped/Motorcycle       Fatal   \n",
       "53665  2003     10    6  Weekday   400.0             1-Car       Fatal   \n",
       "53681  2003      5    4  Weekday  1700.0             2-Car       Fatal   \n",
       "53685  2003      7    5  Weekday   500.0             1-Car       Fatal   \n",
       "\n",
       "                              Primary Factor           Reported_Location  \\\n",
       "530                       RAN OFF ROAD RIGHT  DUNCAN & W LEONARD SPRINGS   \n",
       "531                       RAN OFF ROAD RIGHT          KIRBY & W ST RD 48   \n",
       "649    OTHER (DRIVER) - EXPLAIN IN NARRATIVE                       SR 45   \n",
       "1334                      RAN OFF ROAD RIGHT              INGRAM & SR37N   \n",
       "1873                      RAN OFF ROAD RIGHT       SR37S & STATE ROAD 45   \n",
       "...                                      ...                         ...   \n",
       "53043                         LEFT OF CENTER      FULLERTON PIKE & SR 37   \n",
       "53289                    ALCOHOLIC BEVERAGES     CLEVE BUTCHER & FAIRFAX   \n",
       "53665                      RAN OFF ROAD LEFT          CEDAR BLUFF & SR37   \n",
       "53681                         LEFT OF CENTER      BURGOON CHAPEL & SR446   \n",
       "53685                      PEDESTRIAN ACTION           RHORER RED & SR37   \n",
       "\n",
       "        Latitude  Longitude  count  \n",
       "530    39.122352 -86.596400  count  \n",
       "531    39.059185 -86.610820  count  \n",
       "649    39.125312 -86.610496  count  \n",
       "1334   39.002892 -86.537282  count  \n",
       "1873   39.252134 -86.575043  count  \n",
       "...          ...        ...    ...  \n",
       "53043  39.122332 -86.569889  count  \n",
       "53289  39.060039 -86.498433  count  \n",
       "53665   0.000000   0.000000  count  \n",
       "53681   0.000000   0.000000  count  \n",
       "53685   0.000000   0.000000  count  \n",
       "\n",
       "[115 rows x 12 columns]"
      ]
     },
     "execution_count": 63,
     "metadata": {},
     "output_type": "execute_result"
    }
   ],
   "source": [
    "fatal1"
   ]
  },
  {
   "cell_type": "code",
   "execution_count": 64,
   "id": "d35771fa",
   "metadata": {},
   "outputs": [],
   "source": [
    "count=[]\n",
    "\n",
    "count.append(fatal[\"Reported_Location\"].value_counts())"
   ]
  },
  {
   "cell_type": "code",
   "execution_count": 65,
   "id": "0d4a3abf",
   "metadata": {},
   "outputs": [
    {
     "data": {
      "text/plain": [
       "[Reported_Location\n",
       " FLATWOODS & SR46W               3\n",
       " CLEVE BUTCHER & FAIRFAX RD      2\n",
       " SR37N & WAYPORT                 2\n",
       " SR46 & TEMPERANCE               1\n",
       " 3RD ST & HAWTHORNE              1\n",
       "                                ..\n",
       " FAIRFAX RD & SCHACT             1\n",
       " SR37S & ZIKES                   1\n",
       " SOUTH STATE ROAD 446 RD         1\n",
       " BRUMMETTS CREEK ROAD & SR46E    1\n",
       " RHORER RED & SR37               1\n",
       " Name: count, Length: 111, dtype: int64]"
      ]
     },
     "execution_count": 65,
     "metadata": {},
     "output_type": "execute_result"
    }
   ],
   "source": [
    "count"
   ]
  },
  {
   "cell_type": "markdown",
   "id": "22b2f7bb",
   "metadata": {},
   "source": [
    "# "
   ]
  },
  {
   "cell_type": "code",
   "execution_count": null,
   "id": "6d833839",
   "metadata": {},
   "outputs": [],
   "source": []
  },
  {
   "cell_type": "code",
   "execution_count": null,
   "id": "06d8d71e",
   "metadata": {},
   "outputs": [],
   "source": []
  }
 ],
 "metadata": {
  "kernelspec": {
   "display_name": "Python 3 (ipykernel)",
   "language": "python",
   "name": "python3"
  },
  "language_info": {
   "codemirror_mode": {
    "name": "ipython",
    "version": 3
   },
   "file_extension": ".py",
   "mimetype": "text/x-python",
   "name": "python",
   "nbconvert_exporter": "python",
   "pygments_lexer": "ipython3",
   "version": "3.11.5"
  }
 },
 "nbformat": 4,
 "nbformat_minor": 5
}
